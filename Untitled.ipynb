{
 "cells": [
  {
   "cell_type": "code",
   "execution_count": 1,
   "id": "860ad41f-6539-4908-8472-ac0958b7e96d",
   "metadata": {
    "execution": {
     "iopub.execute_input": "2025-06-21T00:02:45.710120Z",
     "iopub.status.busy": "2025-06-21T00:02:45.709978Z",
     "iopub.status.idle": "2025-06-21T00:02:45.938917Z",
     "shell.execute_reply": "2025-06-21T00:02:45.938558Z",
     "shell.execute_reply.started": "2025-06-21T00:02:45.710104Z"
    }
   },
   "outputs": [],
   "source": [
    "import cv2\n",
    "import numpy as np\n",
    "from scipy import ndimage as ndi\n",
    "from skimage.util import img_as_ubyte, img_as_float"
   ]
  },
  {
   "cell_type": "code",
   "execution_count": 2,
   "id": "5f33024a-8bf2-434b-a4d1-33017932d642",
   "metadata": {
    "execution": {
     "iopub.execute_input": "2025-06-21T00:02:45.939419Z",
     "iopub.status.busy": "2025-06-21T00:02:45.939278Z",
     "iopub.status.idle": "2025-06-21T00:02:46.542977Z",
     "shell.execute_reply": "2025-06-21T00:02:46.542672Z",
     "shell.execute_reply.started": "2025-06-21T00:02:45.939408Z"
    }
   },
   "outputs": [],
   "source": [
    "from image_io import *\n",
    "from utils import *\n",
    "from cevd import *\n",
    "from visualize import *\n",
    "from vfc import *\n",
    "from dst_fields import *"
   ]
  },
  {
   "cell_type": "code",
   "execution_count": 3,
   "id": "6b645f9e-d494-4e5a-9fec-5cb3bee42201",
   "metadata": {
    "execution": {
     "iopub.execute_input": "2025-06-21T00:02:46.543489Z",
     "iopub.status.busy": "2025-06-21T00:02:46.543320Z",
     "iopub.status.idle": "2025-06-21T00:02:46.546547Z",
     "shell.execute_reply": "2025-06-21T00:02:46.546284Z",
     "shell.execute_reply.started": "2025-06-21T00:02:46.543478Z"
    }
   },
   "outputs": [],
   "source": [
    "image = cv2.imread(\"./data/samples_2d/vase.png\", cv2.IMREAD_GRAYSCALE)"
   ]
  },
  {
   "cell_type": "code",
   "execution_count": 4,
   "id": "3f239b44-b40b-4698-801a-bafd2aac7317",
   "metadata": {
    "execution": {
     "iopub.execute_input": "2025-06-21T00:02:46.546977Z",
     "iopub.status.busy": "2025-06-21T00:02:46.546876Z",
     "iopub.status.idle": "2025-06-21T00:02:46.551893Z",
     "shell.execute_reply": "2025-06-21T00:02:46.551583Z",
     "shell.execute_reply.started": "2025-06-21T00:02:46.546968Z"
    }
   },
   "outputs": [],
   "source": [
    "# cv2.imshow(\"Image1\", image)\n",
    "# cv2.waitKey(0)\n",
    "# cv2.destroyAllWindows()"
   ]
  },
  {
   "cell_type": "code",
   "execution_count": 5,
   "id": "f288ecbc-49f0-4929-b7ef-5c599e63f35b",
   "metadata": {
    "execution": {
     "iopub.execute_input": "2025-06-21T00:02:46.552328Z",
     "iopub.status.busy": "2025-06-21T00:02:46.552226Z",
     "iopub.status.idle": "2025-06-21T00:02:46.559273Z",
     "shell.execute_reply": "2025-06-21T00:02:46.558973Z",
     "shell.execute_reply.started": "2025-06-21T00:02:46.552318Z"
    }
   },
   "outputs": [],
   "source": [
    "dst_field = DistanceFields(image)"
   ]
  },
  {
   "cell_type": "code",
   "execution_count": 6,
   "id": "22504a3c-8205-4641-9888-7acbe9ac5ae4",
   "metadata": {
    "execution": {
     "iopub.execute_input": "2025-06-21T00:02:46.560260Z",
     "iopub.status.busy": "2025-06-21T00:02:46.560014Z",
     "iopub.status.idle": "2025-06-21T00:02:46.570449Z",
     "shell.execute_reply": "2025-06-21T00:02:46.570177Z",
     "shell.execute_reply.started": "2025-06-21T00:02:46.560249Z"
    }
   },
   "outputs": [
    {
     "name": "stdout",
     "output_type": "stream",
     "text": [
      "0.5054333769063182 0.5024065798248776\n",
      "0.5024065798248776 0.5024065798248776\n",
      "1\n"
     ]
    }
   ],
   "source": [
    "img1, thresh = dst_field.mean_threshold()"
   ]
  },
  {
   "cell_type": "code",
   "execution_count": 7,
   "id": "f1c9cf5e-c01b-4032-990f-6de104db363f",
   "metadata": {
    "execution": {
     "iopub.execute_input": "2025-06-21T00:02:46.570958Z",
     "iopub.status.busy": "2025-06-21T00:02:46.570794Z",
     "iopub.status.idle": "2025-06-21T00:02:46.574650Z",
     "shell.execute_reply": "2025-06-21T00:02:46.574345Z",
     "shell.execute_reply.started": "2025-06-21T00:02:46.570943Z"
    }
   },
   "outputs": [
    {
     "data": {
      "text/plain": [
       "np.float64(0.5024065798248776)"
      ]
     },
     "execution_count": 7,
     "metadata": {},
     "output_type": "execute_result"
    }
   ],
   "source": [
    "thresh"
   ]
  },
  {
   "cell_type": "code",
   "execution_count": 8,
   "id": "80279561-e959-4b73-b37c-cd2c189c88bd",
   "metadata": {
    "execution": {
     "iopub.execute_input": "2025-06-21T00:02:46.575177Z",
     "iopub.status.busy": "2025-06-21T00:02:46.575072Z",
     "iopub.status.idle": "2025-06-21T00:02:46.581446Z",
     "shell.execute_reply": "2025-06-21T00:02:46.581168Z",
     "shell.execute_reply.started": "2025-06-21T00:02:46.575167Z"
    }
   },
   "outputs": [
    {
     "data": {
      "text/plain": [
       "((450, 600), dtype('uint8'))"
      ]
     },
     "execution_count": 8,
     "metadata": {},
     "output_type": "execute_result"
    }
   ],
   "source": [
    "img1.shape, img1.dtype"
   ]
  },
  {
   "cell_type": "code",
   "execution_count": 9,
   "id": "b3bbc9fb-7391-4672-86f4-f33fb3a3bd95",
   "metadata": {
    "execution": {
     "iopub.execute_input": "2025-06-21T00:02:46.581847Z",
     "iopub.status.busy": "2025-06-21T00:02:46.581746Z",
     "iopub.status.idle": "2025-06-21T00:03:15.252219Z",
     "shell.execute_reply": "2025-06-21T00:03:15.251716Z",
     "shell.execute_reply.started": "2025-06-21T00:02:46.581836Z"
    }
   },
   "outputs": [],
   "source": [
    "cv2.imshow(\"Image1\", img1)\n",
    "cv2.waitKey(0)\n",
    "cv2.destroyAllWindows()"
   ]
  }
 ],
 "metadata": {
  "kernelspec": {
   "display_name": "Python 3 (ipykernel)",
   "language": "python",
   "name": "python3"
  },
  "language_info": {
   "codemirror_mode": {
    "name": "ipython",
    "version": 3
   },
   "file_extension": ".py",
   "mimetype": "text/x-python",
   "name": "python",
   "nbconvert_exporter": "python",
   "pygments_lexer": "ipython3",
   "version": "3.12.11"
  }
 },
 "nbformat": 4,
 "nbformat_minor": 5
}
