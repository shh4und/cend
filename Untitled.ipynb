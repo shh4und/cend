{
 "cells": [
  {
   "cell_type": "code",
   "execution_count": 1,
   "id": "860ad41f-6539-4908-8472-ac0958b7e96d",
   "metadata": {
    "execution": {
     "iopub.execute_input": "2025-06-23T02:51:13.714082Z",
     "iopub.status.busy": "2025-06-23T02:51:13.713979Z",
     "iopub.status.idle": "2025-06-23T02:51:13.909327Z",
     "shell.execute_reply": "2025-06-23T02:51:13.908960Z",
     "shell.execute_reply.started": "2025-06-23T02:51:13.714071Z"
    }
   },
   "outputs": [],
   "source": [
    "import cv2\n",
    "import numpy as np\n",
    "from scipy import ndimage as ndi\n",
    "from skimage.util import img_as_ubyte, img_as_float"
   ]
  },
  {
   "cell_type": "code",
   "execution_count": 2,
   "id": "5f33024a-8bf2-434b-a4d1-33017932d642",
   "metadata": {
    "execution": {
     "iopub.execute_input": "2025-06-23T02:51:13.909989Z",
     "iopub.status.busy": "2025-06-23T02:51:13.909787Z",
     "iopub.status.idle": "2025-06-23T02:51:14.519042Z",
     "shell.execute_reply": "2025-06-23T02:51:14.518616Z",
     "shell.execute_reply.started": "2025-06-23T02:51:13.909976Z"
    }
   },
   "outputs": [],
   "source": [
    "from image_io import *\n",
    "from utils import *\n",
    "from cevd import *\n",
    "from visualize import *\n",
    "from vfc import *\n",
    "from dst_fields import *"
   ]
  },
  {
   "cell_type": "code",
   "execution_count": 3,
   "id": "6b645f9e-d494-4e5a-9fec-5cb3bee42201",
   "metadata": {
    "execution": {
     "iopub.execute_input": "2025-06-23T02:51:14.519751Z",
     "iopub.status.busy": "2025-06-23T02:51:14.519553Z",
     "iopub.status.idle": "2025-06-23T02:51:14.571907Z",
     "shell.execute_reply": "2025-06-23T02:51:14.571548Z",
     "shell.execute_reply.started": "2025-06-23T02:51:14.519740Z"
    }
   },
   "outputs": [],
   "source": [
    "vol_3d = load_3d_volume(\"data/OP_4\")"
   ]
  },
  {
   "cell_type": "code",
   "execution_count": 4,
   "id": "c3760953-d5d5-4f5e-91b0-6ddac22d4a27",
   "metadata": {
    "execution": {
     "iopub.execute_input": "2025-06-23T02:51:14.572342Z",
     "iopub.status.busy": "2025-06-23T02:51:14.572235Z",
     "iopub.status.idle": "2025-06-23T02:51:14.823511Z",
     "shell.execute_reply": "2025-06-23T02:51:14.823133Z",
     "shell.execute_reply.started": "2025-06-23T02:51:14.572332Z"
    }
   },
   "outputs": [],
   "source": [
    "vol_3d_gauss = ndi.gaussian_filter(vol_3d, 1.0)"
   ]
  },
  {
   "cell_type": "code",
   "execution_count": 5,
   "id": "f288ecbc-49f0-4929-b7ef-5c599e63f35b",
   "metadata": {
    "execution": {
     "iopub.execute_input": "2025-06-23T02:51:14.824026Z",
     "iopub.status.busy": "2025-06-23T02:51:14.823896Z",
     "iopub.status.idle": "2025-06-23T02:51:14.849186Z",
     "shell.execute_reply": "2025-06-23T02:51:14.848730Z",
     "shell.execute_reply.started": "2025-06-23T02:51:14.824015Z"
    }
   },
   "outputs": [],
   "source": [
    "dst_field = DistanceFields(vol_3d_gauss, (1,4,1))"
   ]
  },
  {
   "cell_type": "code",
   "execution_count": 6,
   "id": "22504a3c-8205-4641-9888-7acbe9ac5ae4",
   "metadata": {
    "execution": {
     "iopub.execute_input": "2025-06-23T02:51:14.850457Z",
     "iopub.status.busy": "2025-06-23T02:51:14.850280Z",
     "iopub.status.idle": "2025-06-23T02:51:49.409279Z",
     "shell.execute_reply": "2025-06-23T02:51:49.408870Z",
     "shell.execute_reply.started": "2025-06-23T02:51:14.850439Z"
    }
   },
   "outputs": [
    {
     "name": "stderr",
     "output_type": "stream",
     "text": [
      "INFO:DistanceFields:Starting Multiscale Anisotropic Filtering...\n",
      "INFO:DistanceFields: Multiscale Anisotropic Filtering at 1.0 scale\n",
      "INFO:DistanceFields: Multiscale Anisotropic Filtering at 2.0 scale\n",
      "INFO:DistanceFields: Multiscale Anisotropic Filtering at 3.0 scale\n",
      "INFO:DistanceFields: Multiscale Anisotropic Filtering at 4.0 scale\n"
     ]
    }
   ],
   "source": [
    "img_filtered = dst_field.multiscale_anisotropic()"
   ]
  },
  {
   "cell_type": "code",
   "execution_count": 7,
   "id": "f1c9cf5e-c01b-4032-990f-6de104db363f",
   "metadata": {
    "execution": {
     "iopub.execute_input": "2025-06-23T02:51:49.409733Z",
     "iopub.status.busy": "2025-06-23T02:51:49.409625Z",
     "iopub.status.idle": "2025-06-23T02:51:51.841438Z",
     "shell.execute_reply": "2025-06-23T02:51:51.840946Z",
     "shell.execute_reply.started": "2025-06-23T02:51:49.409724Z"
    }
   },
   "outputs": [
    {
     "name": "stderr",
     "output_type": "stream",
     "text": [
      "INFO:root:Gerando malha do volume de fundo...\n",
      "INFO:root:Malha do volume de fundo adicionada com limiar no percentil 80.\n",
      "INFO:root:\n",
      "Feche a janela do Open3D para continuar a execução do script.\n"
     ]
    }
   ],
   "source": [
    "o3d_interactive_volume(img_filtered)"
   ]
  },
  {
   "cell_type": "code",
   "execution_count": 8,
   "id": "9f1266a0-3841-423f-8cca-549faca86339",
   "metadata": {
    "execution": {
     "iopub.execute_input": "2025-06-23T02:51:51.842227Z",
     "iopub.status.busy": "2025-06-23T02:51:51.842056Z",
     "iopub.status.idle": "2025-06-23T02:51:53.045278Z",
     "shell.execute_reply": "2025-06-23T02:51:53.044794Z",
     "shell.execute_reply.started": "2025-06-23T02:51:51.842213Z"
    }
   },
   "outputs": [
    {
     "name": "stderr",
     "output_type": "stream",
     "text": [
      "INFO:root:Gerando malha do volume de fundo...\n",
      "INFO:root:Malha do volume de fundo adicionada com limiar no percentil 80.\n",
      "INFO:root:\n",
      "Feche a janela do Open3D para continuar a execução do script.\n"
     ]
    }
   ],
   "source": [
    "o3d_interactive_volume(vol_3d_gauss)"
   ]
  },
  {
   "cell_type": "code",
   "execution_count": 9,
   "id": "7eaa0aa8-26ae-42ee-9f76-33acc7b45ee1",
   "metadata": {
    "execution": {
     "iopub.execute_input": "2025-06-23T02:51:53.046122Z",
     "iopub.status.busy": "2025-06-23T02:51:53.045870Z",
     "iopub.status.idle": "2025-06-23T02:51:53.596423Z",
     "shell.execute_reply": "2025-06-23T02:51:53.595994Z",
     "shell.execute_reply.started": "2025-06-23T02:51:53.046104Z"
    }
   },
   "outputs": [],
   "source": [
    "img_seg, thresh = dst_field.mean_threshold(img_filtered)"
   ]
  },
  {
   "cell_type": "code",
   "execution_count": 10,
   "id": "d51c630c-7c63-4189-b81c-75f119d73e8a",
   "metadata": {
    "execution": {
     "iopub.execute_input": "2025-06-23T02:51:53.596854Z",
     "iopub.status.busy": "2025-06-23T02:51:53.596751Z",
     "iopub.status.idle": "2025-06-23T02:51:53.600964Z",
     "shell.execute_reply": "2025-06-23T02:51:53.600574Z",
     "shell.execute_reply.started": "2025-06-23T02:51:53.596844Z"
    }
   },
   "outputs": [
    {
     "data": {
      "text/plain": [
       "np.float64(0.08949877214638734)"
      ]
     },
     "execution_count": 10,
     "metadata": {},
     "output_type": "execute_result"
    }
   ],
   "source": [
    "thresh"
   ]
  },
  {
   "cell_type": "code",
   "execution_count": 11,
   "id": "0d6b450d-63c1-4224-998a-a03df15af0eb",
   "metadata": {
    "execution": {
     "iopub.execute_input": "2025-06-23T02:51:53.601540Z",
     "iopub.status.busy": "2025-06-23T02:51:53.601384Z",
     "iopub.status.idle": "2025-06-23T02:52:01.593119Z",
     "shell.execute_reply": "2025-06-23T02:52:01.592527Z",
     "shell.execute_reply.started": "2025-06-23T02:51:53.601529Z"
    }
   },
   "outputs": [
    {
     "name": "stderr",
     "output_type": "stream",
     "text": [
      "INFO:root:Gerando malha do volume de fundo...\n",
      "INFO:root:Malha do volume de fundo adicionada com limiar no percentil 80.\n",
      "INFO:root:\n",
      "Feche a janela do Open3D para continuar a execução do script.\n"
     ]
    }
   ],
   "source": [
    "o3d_interactive_volume(img_seg)"
   ]
  },
  {
   "cell_type": "code",
   "execution_count": 12,
   "id": "d8ff60eb-87bc-4c1b-aeb3-5c795c9ff474",
   "metadata": {
    "execution": {
     "iopub.execute_input": "2025-06-23T02:52:01.594429Z",
     "iopub.status.busy": "2025-06-23T02:52:01.594233Z",
     "iopub.status.idle": "2025-06-23T02:52:02.620425Z",
     "shell.execute_reply": "2025-06-23T02:52:02.619809Z",
     "shell.execute_reply.started": "2025-06-23T02:52:01.594415Z"
    }
   },
   "outputs": [],
   "source": [
    "simple_imshow([np.max(img_seg, axis=0)])"
   ]
  },
  {
   "cell_type": "code",
   "execution_count": 13,
   "id": "d3cc9a45-653d-4b72-8fd3-587a1db592ca",
   "metadata": {
    "execution": {
     "iopub.execute_input": "2025-06-23T02:52:02.621323Z",
     "iopub.status.busy": "2025-06-23T02:52:02.621145Z",
     "iopub.status.idle": "2025-06-23T02:52:03.507006Z",
     "shell.execute_reply": "2025-06-23T02:52:03.506413Z",
     "shell.execute_reply.started": "2025-06-23T02:52:02.621304Z"
    }
   },
   "outputs": [],
   "source": [
    "slide_imshow(img_seg)"
   ]
  },
  {
   "cell_type": "code",
   "execution_count": null,
   "id": "90a5ff32-b766-4177-b99f-d958ecbcb83a",
   "metadata": {},
   "outputs": [],
   "source": []
  }
 ],
 "metadata": {
  "kernelspec": {
   "display_name": "Python 3 (ipykernel)",
   "language": "python",
   "name": "python3"
  },
  "language_info": {
   "codemirror_mode": {
    "name": "ipython",
    "version": 3
   },
   "file_extension": ".py",
   "mimetype": "text/x-python",
   "name": "python",
   "nbconvert_exporter": "python",
   "pygments_lexer": "ipython3",
   "version": "3.12.11"
  }
 },
 "nbformat": 4,
 "nbformat_minor": 5
}
