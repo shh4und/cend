{
 "cells": [
  {
   "cell_type": "code",
   "execution_count": 1,
   "id": "860ad41f-6539-4908-8472-ac0958b7e96d",
   "metadata": {
    "execution": {
     "iopub.execute_input": "2025-07-21T19:40:08.288574Z",
     "iopub.status.busy": "2025-07-21T19:40:08.288382Z",
     "iopub.status.idle": "2025-07-21T19:40:08.553452Z",
     "shell.execute_reply": "2025-07-21T19:40:08.553062Z",
     "shell.execute_reply.started": "2025-07-21T19:40:08.288562Z"
    }
   },
   "outputs": [],
   "source": [
    "import cv2\n",
    "import numpy as np\n",
    "from scipy import ndimage as ndi\n",
    "from skimage.util import img_as_ubyte, img_as_float, img_as_bool\n",
    "from skimage.feature import peak_local_max"
   ]
  },
  {
   "cell_type": "code",
   "execution_count": 2,
   "id": "5f33024a-8bf2-434b-a4d1-33017932d642",
   "metadata": {
    "execution": {
     "iopub.execute_input": "2025-07-21T19:40:08.553969Z",
     "iopub.status.busy": "2025-07-21T19:40:08.553818Z",
     "iopub.status.idle": "2025-07-21T19:40:09.058125Z",
     "shell.execute_reply": "2025-07-21T19:40:09.057721Z",
     "shell.execute_reply.started": "2025-07-21T19:40:08.553955Z"
    }
   },
   "outputs": [],
   "source": [
    "from image_io import *\n",
    "from utils import *\n",
    "from cevd import *\n",
    "from visualize import *\n",
    "from vfc import *\n",
    "from dst_fields import *"
   ]
  },
  {
   "cell_type": "code",
   "execution_count": 3,
   "id": "3797f691-ceeb-473f-8eaa-35902a921440",
   "metadata": {
    "execution": {
     "iopub.execute_input": "2025-07-21T19:40:09.058661Z",
     "iopub.status.busy": "2025-07-21T19:40:09.058493Z",
     "iopub.status.idle": "2025-07-21T19:40:09.060934Z",
     "shell.execute_reply": "2025-07-21T19:40:09.060513Z",
     "shell.execute_reply.started": "2025-07-21T19:40:09.058650Z"
    }
   },
   "outputs": [],
   "source": [
    "seed_point1 = (0, 429, 31)\n",
    "seed_point2 = (25, 391, 1)\n",
    "seed_point3 = (38, 179, 94)\n",
    "seed_point4 = (0, 504, 128)\n",
    "seed_point5 = (33, 264, 185)\n",
    "seed_point6 = (10, 412, 15)\n",
    "seed_point7 = (39, 216, 120)\n",
    "seed_point8 = (55, 181, 119)\n",
    "seed_point9 = (4, 364, 64)"
   ]
  },
  {
   "cell_type": "code",
   "execution_count": 4,
   "id": "90016c76-eec4-4652-af39-2e9ab2573a38",
   "metadata": {
    "execution": {
     "iopub.execute_input": "2025-07-21T19:40:09.061326Z",
     "iopub.status.busy": "2025-07-21T19:40:09.061229Z",
     "iopub.status.idle": "2025-07-21T19:40:09.076613Z",
     "shell.execute_reply": "2025-07-21T19:40:09.076355Z",
     "shell.execute_reply.started": "2025-07-21T19:40:09.061315Z"
    }
   },
   "outputs": [],
   "source": [
    "seed_point = seed_point1"
   ]
  },
  {
   "cell_type": "code",
   "execution_count": 5,
   "id": "6b645f9e-d494-4e5a-9fec-5cb3bee42201",
   "metadata": {
    "execution": {
     "iopub.execute_input": "2025-07-21T19:40:09.076967Z",
     "iopub.status.busy": "2025-07-21T19:40:09.076876Z",
     "iopub.status.idle": "2025-07-21T19:40:09.114320Z",
     "shell.execute_reply": "2025-07-21T19:40:09.113995Z",
     "shell.execute_reply.started": "2025-07-21T19:40:09.076958Z"
    }
   },
   "outputs": [],
   "source": [
    "vol_3d = load_3d_volume(\"data/OP_1\")"
   ]
  },
  {
   "cell_type": "code",
   "execution_count": 6,
   "id": "681ae410-efc3-4011-94b7-7ca791c16931",
   "metadata": {
    "execution": {
     "iopub.execute_input": "2025-07-21T19:40:09.115322Z",
     "iopub.status.busy": "2025-07-21T19:40:09.115202Z",
     "iopub.status.idle": "2025-07-21T19:40:09.117110Z",
     "shell.execute_reply": "2025-07-21T19:40:09.116781Z",
     "shell.execute_reply.started": "2025-07-21T19:40:09.115312Z"
    },
    "scrolled": true
   },
   "outputs": [],
   "source": [
    "# plt.figure(figsize=(10, 10))\n",
    "# plt.imshow(np.mean(vol_3d, axis=0), cmap=\"hot\")"
   ]
  },
  {
   "cell_type": "code",
   "execution_count": 7,
   "id": "c3760953-d5d5-4f5e-91b0-6ddac22d4a27",
   "metadata": {
    "execution": {
     "iopub.execute_input": "2025-07-21T19:40:09.117537Z",
     "iopub.status.busy": "2025-07-21T19:40:09.117439Z",
     "iopub.status.idle": "2025-07-21T19:40:09.542100Z",
     "shell.execute_reply": "2025-07-21T19:40:09.541691Z",
     "shell.execute_reply.started": "2025-07-21T19:40:09.117527Z"
    }
   },
   "outputs": [],
   "source": [
    "vol_3d_f = ndi.gaussian_filter(vol_3d, 2.0)\n",
    "vol_3d_filtered = ndi.minimum_filter(vol_3d_f, 2)"
   ]
  },
  {
   "cell_type": "code",
   "execution_count": 8,
   "id": "ceab7490-c689-4055-adb7-4aaac903a096",
   "metadata": {
    "execution": {
     "iopub.execute_input": "2025-07-21T19:40:09.542475Z",
     "iopub.status.busy": "2025-07-21T19:40:09.542370Z",
     "iopub.status.idle": "2025-07-21T19:40:09.544264Z",
     "shell.execute_reply": "2025-07-21T19:40:09.543989Z",
     "shell.execute_reply.started": "2025-07-21T19:40:09.542465Z"
    }
   },
   "outputs": [],
   "source": [
    "# plt.figure(figsize=(10, 10))\n",
    "# plt.imshow(np.mean(vol_3d_filtered, axis=0), cmap=\"hot\")"
   ]
  },
  {
   "cell_type": "code",
   "execution_count": 9,
   "id": "f288ecbc-49f0-4929-b7ef-5c599e63f35b",
   "metadata": {
    "execution": {
     "iopub.execute_input": "2025-07-21T19:40:09.544811Z",
     "iopub.status.busy": "2025-07-21T19:40:09.544661Z",
     "iopub.status.idle": "2025-07-21T19:40:09.602419Z",
     "shell.execute_reply": "2025-07-21T19:40:09.602080Z",
     "shell.execute_reply.started": "2025-07-21T19:40:09.544797Z"
    }
   },
   "outputs": [],
   "source": [
    "dst_field = DistanceFields(\n",
    "    volume=vol_3d_filtered, sigma_range=(0.5, 2, 1), neuron_threshold=1e-1\n",
    ")"
   ]
  },
  {
   "cell_type": "code",
   "execution_count": 10,
   "id": "22504a3c-8205-4641-9888-7acbe9ac5ae4",
   "metadata": {
    "execution": {
     "iopub.execute_input": "2025-07-21T19:40:09.602884Z",
     "iopub.status.busy": "2025-07-21T19:40:09.602759Z",
     "iopub.status.idle": "2025-07-21T19:40:42.064191Z",
     "shell.execute_reply": "2025-07-21T19:40:42.063836Z",
     "shell.execute_reply.started": "2025-07-21T19:40:09.602875Z"
    },
    "scrolled": true
   },
   "outputs": [
    {
     "name": "stderr",
     "output_type": "stream",
     "text": [
      " - Starting Multiscale Anisotropic Filtering...\n",
      " - -> Filtering at scale: 0.5\n",
      " - -> Filtering at scale: 1.5\n",
      " - -> Filtering at scale: 2.5\n",
      " - Multiscale Anisotropic Filtering complete.\n"
     ]
    }
   ],
   "source": [
    "img_filtered = dst_field.multiscale_anisotropic()"
   ]
  },
  {
   "cell_type": "code",
   "execution_count": 11,
   "id": "7eaa0aa8-26ae-42ee-9f76-33acc7b45ee1",
   "metadata": {
    "execution": {
     "iopub.execute_input": "2025-07-21T19:40:42.064753Z",
     "iopub.status.busy": "2025-07-21T19:40:42.064615Z",
     "iopub.status.idle": "2025-07-21T19:40:42.075234Z",
     "shell.execute_reply": "2025-07-21T19:40:42.074943Z",
     "shell.execute_reply.started": "2025-07-21T19:40:42.064744Z"
    }
   },
   "outputs": [],
   "source": [
    "img_mask, thresh = dst_field.adaptive_mean_mask(img_filtered, zero_t=True)"
   ]
  },
  {
   "cell_type": "code",
   "execution_count": 12,
   "id": "9dd6a853-bfe1-41b7-9155-7be02cd90194",
   "metadata": {
    "execution": {
     "iopub.execute_input": "2025-07-21T19:40:42.075642Z",
     "iopub.status.busy": "2025-07-21T19:40:42.075540Z",
     "iopub.status.idle": "2025-07-21T19:40:42.384941Z",
     "shell.execute_reply": "2025-07-21T19:40:42.384523Z",
     "shell.execute_reply.started": "2025-07-21T19:40:42.075632Z"
    }
   },
   "outputs": [],
   "source": [
    "strel = ndi.generate_binary_structure(3,3)\n",
    "# img_mask = img_as_bool(ndi.binary_erosion(img_mask, structure=strel))\n",
    "img_mask = img_as_bool(ndi.binary_dilation(img_mask, structure=strel))"
   ]
  },
  {
   "cell_type": "code",
   "execution_count": 13,
   "id": "76270e7e-52b3-40e6-9fd8-dd1a497dae3a",
   "metadata": {
    "execution": {
     "iopub.execute_input": "2025-07-21T19:40:42.385519Z",
     "iopub.status.busy": "2025-07-21T19:40:42.385368Z",
     "iopub.status.idle": "2025-07-21T19:40:42.387360Z",
     "shell.execute_reply": "2025-07-21T19:40:42.387091Z",
     "shell.execute_reply.started": "2025-07-21T19:40:42.385503Z"
    }
   },
   "outputs": [],
   "source": [
    "# boundary_mask = dst_field.boundary_voxels(img_mask)"
   ]
  },
  {
   "cell_type": "code",
   "execution_count": 14,
   "id": "bdb617ac-08c8-43a9-9ee9-e9d61910aa4c",
   "metadata": {
    "execution": {
     "iopub.execute_input": "2025-07-21T19:40:42.388186Z",
     "iopub.status.busy": "2025-07-21T19:40:42.388049Z",
     "iopub.status.idle": "2025-07-21T19:40:42.431112Z",
     "shell.execute_reply": "2025-07-21T19:40:42.430832Z",
     "shell.execute_reply.started": "2025-07-21T19:40:42.388171Z"
    }
   },
   "outputs": [
    {
     "data": {
      "text/plain": [
       "(np.float64(18.166857893529617),\n",
       " np.float64(0.0),\n",
       " np.float64(0.07321920624750132))"
      ]
     },
     "execution_count": 14,
     "metadata": {},
     "output_type": "execute_result"
    }
   ],
   "source": [
    "img_filtered.max(), img_filtered.min(), img_filtered.mean()"
   ]
  },
  {
   "cell_type": "code",
   "execution_count": 15,
   "id": "a7e4664a-b152-459f-9870-135802d7c335",
   "metadata": {
    "execution": {
     "iopub.execute_input": "2025-07-21T19:40:42.431679Z",
     "iopub.status.busy": "2025-07-21T19:40:42.431513Z",
     "iopub.status.idle": "2025-07-21T19:40:42.481173Z",
     "shell.execute_reply": "2025-07-21T19:40:42.480762Z",
     "shell.execute_reply.started": "2025-07-21T19:40:42.431661Z"
    }
   },
   "outputs": [],
   "source": [
    "seg_vol = dst_field.volume_segmentation(img_mask, vol_3d_filtered)"
   ]
  },
  {
   "cell_type": "code",
   "execution_count": 16,
   "id": "973c7ed4-1e6d-4907-93c6-ec9f8d2f48d0",
   "metadata": {
    "execution": {
     "iopub.execute_input": "2025-07-21T19:40:42.481718Z",
     "iopub.status.busy": "2025-07-21T19:40:42.481554Z",
     "iopub.status.idle": "2025-07-21T19:40:42.599857Z",
     "shell.execute_reply": "2025-07-21T19:40:42.599448Z",
     "shell.execute_reply.started": "2025-07-21T19:40:42.481702Z"
    }
   },
   "outputs": [],
   "source": [
    "pressure_field = dst_field.pressure_field(img_mask, metric='taxicab')"
   ]
  },
  {
   "cell_type": "code",
   "execution_count": 17,
   "id": "1c6dcd44-19ec-4455-b36a-143990ddfea1",
   "metadata": {
    "execution": {
     "iopub.execute_input": "2025-07-21T19:40:42.600356Z",
     "iopub.status.busy": "2025-07-21T19:40:42.600216Z",
     "iopub.status.idle": "2025-07-21T19:40:42.767792Z",
     "shell.execute_reply": "2025-07-21T19:40:42.767364Z",
     "shell.execute_reply.started": "2025-07-21T19:40:42.600341Z"
    }
   },
   "outputs": [],
   "source": [
    "thrust_field = dst_field.thrust_field(img_mask, seed_point)"
   ]
  },
  {
   "cell_type": "code",
   "execution_count": 18,
   "id": "0573e22f-dbe4-4c91-9b54-39e58b45b4ef",
   "metadata": {
    "execution": {
     "iopub.execute_input": "2025-07-21T19:40:42.768233Z",
     "iopub.status.busy": "2025-07-21T19:40:42.768128Z",
     "iopub.status.idle": "2025-07-21T19:40:42.841868Z",
     "shell.execute_reply": "2025-07-21T19:40:42.841469Z",
     "shell.execute_reply.started": "2025-07-21T19:40:42.768223Z"
    }
   },
   "outputs": [],
   "source": [
    "norm_pressure = (pressure_field - pressure_field.min()) / (\n",
    "    pressure_field.max() - pressure_field.min()\n",
    ")"
   ]
  },
  {
   "cell_type": "code",
   "execution_count": 19,
   "id": "ef721514-f887-4368-b983-9ceba5267984",
   "metadata": {
    "execution": {
     "iopub.execute_input": "2025-07-21T19:40:42.842295Z",
     "iopub.status.busy": "2025-07-21T19:40:42.842153Z",
     "iopub.status.idle": "2025-07-21T19:40:42.859127Z",
     "shell.execute_reply": "2025-07-21T19:40:42.858772Z",
     "shell.execute_reply.started": "2025-07-21T19:40:42.842281Z"
    }
   },
   "outputs": [
    {
     "data": {
      "text/plain": [
       "(np.int32(14), np.int32(0), np.float64(0.07306919097900391))"
      ]
     },
     "execution_count": 19,
     "metadata": {},
     "output_type": "execute_result"
    }
   ],
   "source": [
    "pressure_field.max(), pressure_field.min(), pressure_field.mean()"
   ]
  },
  {
   "cell_type": "code",
   "execution_count": null,
   "id": "1204cec9-a7d2-4107-b632-781da9df8c86",
   "metadata": {},
   "outputs": [],
   "source": []
  },
  {
   "cell_type": "code",
   "execution_count": 20,
   "id": "65f8de23-d4f9-406b-a218-dabac27915f5",
   "metadata": {
    "execution": {
     "iopub.execute_input": "2025-07-21T19:40:42.859789Z",
     "iopub.status.busy": "2025-07-21T19:40:42.859520Z",
     "iopub.status.idle": "2025-07-21T19:40:42.862186Z",
     "shell.execute_reply": "2025-07-21T19:40:42.861898Z",
     "shell.execute_reply.started": "2025-07-21T19:40:42.859772Z"
    }
   },
   "outputs": [],
   "source": [
    "# show_stack_interactive(img_as_ubyte(img_mask))"
   ]
  },
  {
   "cell_type": "code",
   "execution_count": 21,
   "id": "9be5efb4-04a6-4d02-8654-57b81f62a91a",
   "metadata": {
    "execution": {
     "iopub.execute_input": "2025-07-21T19:40:42.863821Z",
     "iopub.status.busy": "2025-07-21T19:40:42.863636Z",
     "iopub.status.idle": "2025-07-21T19:40:42.874287Z",
     "shell.execute_reply": "2025-07-21T19:40:42.873820Z",
     "shell.execute_reply.started": "2025-07-21T19:40:42.863811Z"
    }
   },
   "outputs": [],
   "source": [
    "# show_volume_3d_dt(\n",
    "#     seg_vol, distance_field=pressure_field, threshold_percentile=80, colormap=plt.cm.hot\n",
    "# )"
   ]
  },
  {
   "cell_type": "code",
   "execution_count": 22,
   "id": "ac4d9708-0d7d-4938-93a9-6c079d422af4",
   "metadata": {
    "execution": {
     "iopub.execute_input": "2025-07-21T19:40:42.874787Z",
     "iopub.status.busy": "2025-07-21T19:40:42.874676Z",
     "iopub.status.idle": "2025-07-21T19:40:42.885686Z",
     "shell.execute_reply": "2025-07-21T19:40:42.885420Z",
     "shell.execute_reply.started": "2025-07-21T19:40:42.874776Z"
    }
   },
   "outputs": [],
   "source": [
    "# show_volume_3d_dt(\n",
    "#     seg_vol, distance_field=thrust_field, threshold_percentile=20, colormap=plt.cm.hot\n",
    "# )"
   ]
  },
  {
   "cell_type": "code",
   "execution_count": 23,
   "id": "3bc00eca-a593-4769-b41f-1817e1dc4633",
   "metadata": {
    "execution": {
     "iopub.execute_input": "2025-07-21T19:40:42.886072Z",
     "iopub.status.busy": "2025-07-21T19:40:42.885976Z",
     "iopub.status.idle": "2025-07-21T19:40:42.897854Z",
     "shell.execute_reply": "2025-07-21T19:40:42.897538Z",
     "shell.execute_reply.started": "2025-07-21T19:40:42.886063Z"
    }
   },
   "outputs": [],
   "source": [
    "# plt.figure(figsize=(12, 8))\n",
    "# plt.imshow(np.max(seg_vol, axis=0), cmap=\"hot\")"
   ]
  },
  {
   "cell_type": "code",
   "execution_count": 24,
   "id": "5415bda3-c97d-4208-a968-c052fdcd7c4c",
   "metadata": {
    "execution": {
     "iopub.execute_input": "2025-07-21T19:40:42.898306Z",
     "iopub.status.busy": "2025-07-21T19:40:42.898181Z",
     "iopub.status.idle": "2025-07-21T19:40:43.074807Z",
     "shell.execute_reply": "2025-07-21T19:40:43.074454Z",
     "shell.execute_reply.started": "2025-07-21T19:40:42.898294Z"
    }
   },
   "outputs": [
    {
     "data": {
      "text/plain": [
       "<matplotlib.image.AxesImage at 0x7f5ae172c710>"
      ]
     },
     "execution_count": 24,
     "metadata": {},
     "output_type": "execute_result"
    },
    {
     "data": {
      "image/png": "[encoded data removed]",
      "text/plain": [
       "<Figure size 1200x800 with 1 Axes>"
      ]
     },
     "metadata": {},
     "output_type": "display_data"
    }
   ],
   "source": [
    "plt.figure(figsize=(12, 8))\n",
    "plt.imshow(np.mean(pressure_field, axis=0), cmap=\"hot\")"
   ]
  },
  {
   "cell_type": "code",
   "execution_count": 25,
   "id": "301221f2-4afd-408f-9288-aacaa1f9ea67",
   "metadata": {
    "execution": {
     "iopub.execute_input": "2025-07-21T19:40:43.075368Z",
     "iopub.status.busy": "2025-07-21T19:40:43.075143Z",
     "iopub.status.idle": "2025-07-21T19:40:43.077044Z",
     "shell.execute_reply": "2025-07-21T19:40:43.076709Z",
     "shell.execute_reply.started": "2025-07-21T19:40:43.075357Z"
    }
   },
   "outputs": [],
   "source": [
    "# plt.figure(figsize=(12, 8))\n",
    "# plt.imshow(np.mean(thrust_field, axis=0), cmap=\"hot\")"
   ]
  },
  {
   "cell_type": "code",
   "execution_count": 26,
   "id": "4a656d23-bc96-4149-9f31-24e47ba20b42",
   "metadata": {
    "execution": {
     "iopub.execute_input": "2025-07-21T19:40:43.077609Z",
     "iopub.status.busy": "2025-07-21T19:40:43.077475Z",
     "iopub.status.idle": "2025-07-21T19:40:43.330359Z",
     "shell.execute_reply": "2025-07-21T19:40:43.329995Z",
     "shell.execute_reply.started": "2025-07-21T19:40:43.077598Z"
    }
   },
   "outputs": [],
   "source": [
    "# maximas_coords, _ = local_maxima_3d(thrust_field, 3)\n",
    "maximas_coords = peak_local_max(thrust_field, min_distance=3, threshold_abs=5)\n"
   ]
  },
  {
   "cell_type": "code",
   "execution_count": 27,
   "id": "55742fc7-d496-4bc9-a9fc-2d0afdff25ca",
   "metadata": {
    "execution": {
     "iopub.execute_input": "2025-07-21T19:40:43.330833Z",
     "iopub.status.busy": "2025-07-21T19:40:43.330720Z",
     "iopub.status.idle": "2025-07-21T19:40:43.337823Z",
     "shell.execute_reply": "2025-07-21T19:40:43.337444Z",
     "shell.execute_reply.started": "2025-07-21T19:40:43.330822Z"
    }
   },
   "outputs": [
    {
     "name": "stderr",
     "output_type": "stream",
     "text": [
      " - Generating skeleton...\n"
     ]
    }
   ],
   "source": [
    "skel = dst_field.generate_skel_from_maximas(maximas_coords, seed_point, pressure_field, thrust_field, img_mask, epsilon=0.0)"
   ]
  },
  {
   "cell_type": "code",
   "execution_count": null,
   "id": "a1fb7deb-c364-4be3-a2d0-aa74009eec51",
   "metadata": {
    "scrolled": true
   },
   "outputs": [],
   "source": []
  },
  {
   "cell_type": "code",
   "execution_count": 28,
   "id": "6b248197-b8bd-4740-9ede-f3c190b88864",
   "metadata": {
    "execution": {
     "iopub.execute_input": "2025-07-21T19:40:43.338625Z",
     "iopub.status.busy": "2025-07-21T19:40:43.338332Z",
     "iopub.status.idle": "2025-07-21T19:40:43.351229Z",
     "shell.execute_reply": "2025-07-21T19:40:43.350865Z",
     "shell.execute_reply.started": "2025-07-21T19:40:43.338607Z"
    }
   },
   "outputs": [],
   "source": [
    "# maxima_img = create_maxima_image(maximas_coords, vol_3d.shape1"
   ]
  },
  {
   "cell_type": "code",
   "execution_count": 29,
   "id": "dec952cf-99a5-4f1d-a008-cf2c5b095756",
   "metadata": {
    "execution": {
     "iopub.execute_input": "2025-07-21T19:40:43.351810Z",
     "iopub.status.busy": "2025-07-21T19:40:43.351635Z",
     "iopub.status.idle": "2025-07-21T19:40:43.364211Z",
     "shell.execute_reply": "2025-07-21T19:40:43.363825Z",
     "shell.execute_reply.started": "2025-07-21T19:40:43.351794Z"
    }
   },
   "outputs": [],
   "source": [
    "skel_img = create_maxima_image(skel, vol_3d.shape)"
   ]
  },
  {
   "cell_type": "code",
   "execution_count": 30,
   "id": "bd183bef-bc6f-4974-80c0-0165cbb170e1",
   "metadata": {
    "execution": {
     "iopub.execute_input": "2025-07-21T19:40:43.364902Z",
     "iopub.status.busy": "2025-07-21T19:40:43.364736Z",
     "iopub.status.idle": "2025-07-21T19:40:43.541246Z",
     "shell.execute_reply": "2025-07-21T19:40:43.540862Z",
     "shell.execute_reply.started": "2025-07-21T19:40:43.364886Z"
    }
   },
   "outputs": [
    {
     "data": {
      "text/plain": [
       "<matplotlib.image.AxesImage at 0x7f5ae174e990>"
      ]
     },
     "execution_count": 30,
     "metadata": {},
     "output_type": "execute_result"
    },
    {
     "data": {
      "image/png": "[encoded data removed]",
      "text/plain": [
       "<Figure size 1200x800 with 1 Axes>"
      ]
     },
     "metadata": {},
     "output_type": "display_data"
    }
   ],
   "source": [
    "plt.figure(figsize=(12, 8))\n",
    "plt.imshow(np.max(skel_img, axis=0), cmap=\"gray\")"
   ]
  },
  {
   "cell_type": "code",
   "execution_count": 32,
   "id": "fb342521-011a-449a-9ee5-46e7efc0ee92",
   "metadata": {
    "execution": {
     "iopub.execute_input": "2025-07-21T19:41:01.792786Z",
     "iopub.status.busy": "2025-07-21T19:41:01.792468Z",
     "iopub.status.idle": "2025-07-21T19:41:07.468244Z",
     "shell.execute_reply": "2025-07-21T19:41:07.467579Z",
     "shell.execute_reply.started": "2025-07-21T19:41:01.792774Z"
    }
   },
   "outputs": [
    {
     "name": "stderr",
     "output_type": "stream",
     "text": [
      " - Visualizing 34 points.\n",
      " - Generating background volume mesh...\n",
      " - Background mesh added with threshold at percentile 80.\n",
      " - Close the visualization window to continue script execution.\n"
     ]
    }
   ],
   "source": [
    "show_points_3d(maximas_coords, seg_vol, point_size=5.0, threshold_percentile=80)"
   ]
  },
  {
   "cell_type": "code",
   "execution_count": null,
   "id": "b26035b4-b17f-4f4f-8c5d-da809863d2fd",
   "metadata": {},
   "outputs": [],
   "source": []
  },
  {
   "cell_type": "code",
   "execution_count": null,
   "id": "2cf55ae7-1f3d-4abe-8fde-6e599575a0e3",
   "metadata": {},
   "outputs": [],
   "source": []
  },
  {
   "cell_type": "code",
   "execution_count": null,
   "id": "374f57f6-6f52-463d-a367-8d04da84773c",
   "metadata": {},
   "outputs": [],
   "source": []
  }
 ],
 "metadata": {
  "kernelspec": {
   "display_name": "Python 3 (ipykernel)",
   "language": "python",
   "name": "python3"
  },
  "language_info": {
   "codemirror_mode": {
    "name": "ipython",
    "version": 3
   },
   "file_extension": ".py",
   "mimetype": "text/x-python",
   "name": "python",
   "nbconvert_exporter": "python",
   "pygments_lexer": "ipython3",
   "version": "3.12.11"
  }
 },
 "nbformat": 4,
 "nbformat_minor": 5
}
