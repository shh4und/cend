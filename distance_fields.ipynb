{
 "cells": [
  {
   "cell_type": "code",
   "execution_count": null,
   "id": "323d79c4-0ef4-4f5e-b5fe-eaacde4449b8",
   "metadata": {},
   "outputs": [],
   "source": [
    "import sys\n",
    "\n",
    "sys.path.append(\"~/RMNIM\")\n",
    "from ip.graph_nx import Graph # type: ignore"
   ]
  },
  {
   "cell_type": "code",
   "execution_count": null,
   "id": "860ad41f-6539-4908-8472-ac0958b7e96d",
   "metadata": {},
   "outputs": [],
   "source": [
    "import cv2\n",
    "import numpy as np\n",
    "from scipy import ndimage as ndi\n",
    "from skimage.util import img_as_ubyte, img_as_float, img_as_bool\n",
    "from skimage.feature import peak_local_max\n",
    "from skimage.morphology import skeletonize, thin"
   ]
  },
  {
   "cell_type": "code",
   "execution_count": null,
   "id": "5f33024a-8bf2-434b-a4d1-33017932d642",
   "metadata": {},
   "outputs": [],
   "source": [
    "from image_io import *\n",
    "from utils import *\n",
    "from cevd import *\n",
    "from visualize import *\n",
    "from vfc import *\n",
    "from dst_fields import *"
   ]
  },
  {
   "cell_type": "code",
   "execution_count": null,
   "id": "3797f691-ceeb-473f-8eaa-35902a921440",
   "metadata": {},
   "outputs": [],
   "source": [
    "# read dataset\n",
    "OP_ = [\n",
    "    load_3d_volume(\"data/OP_1\"),\n",
    "    load_3d_volume(\"data/OP_2\"),\n",
    "    load_3d_volume(\"data/OP_3\"),\n",
    "    load_3d_volume(\"data/OP_4\"),\n",
    "    load_3d_volume(\"data/OP_5\"),\n",
    "    load_3d_volume(\"data/OP_6\"),\n",
    "    load_3d_volume(\"data/OP_7\"),\n",
    "    load_3d_volume(\"data/OP_8\"),\n",
    "    load_3d_volume(\"data/OP_9\"),\n",
    "]\n",
    "\n",
    "OP_Gf_ = [\n",
    "    ndi.minimum_filter(ndi.gaussian_filter(OP_[0], 2.0), 2),\n",
    "    ndi.minimum_filter(ndi.gaussian_filter(OP_[1], 2.0), 2),\n",
    "    ndi.minimum_filter(ndi.gaussian_filter(OP_[2], 2.0), 2),\n",
    "    ndi.minimum_filter(ndi.gaussian_filter(OP_[3], 2.0), 2),\n",
    "    ndi.minimum_filter(ndi.gaussian_filter(OP_[4], 2.0), 2),\n",
    "    ndi.minimum_filter(ndi.gaussian_filter(OP_[5], 2.0), 2),\n",
    "    ndi.minimum_filter(ndi.gaussian_filter(OP_[6], 2.0), 2),\n",
    "    ndi.minimum_filter(ndi.gaussian_filter(OP_[7], 2.0), 2),\n",
    "    ndi.minimum_filter(ndi.gaussian_filter(OP_[8], 2.0), 2),\n",
    "]\n",
    "\n",
    "root_ = [\n",
    "    (0, 429, 31),\n",
    "    (25, 391, 1),\n",
    "    (38, 179, 94),\n",
    "    (0, 504, 128),\n",
    "    (33, 264, 185),\n",
    "    (10, 412, 15),\n",
    "    (39, 216, 120),\n",
    "    (55, 181, 119),\n",
    "    (4, 364, 64),\n",
    "]"
   ]
  },
  {
   "cell_type": "code",
   "execution_count": null,
   "id": "82f58650-dc80-486e-8914-f7a2644ac67c",
   "metadata": {},
   "outputs": [],
   "source": [
    "# coarse segmentation\n",
    "OP_[0][OP_Gf_[0] <= 0] = 0\n",
    "OP_[1][OP_Gf_[1] <= 0] = 0\n",
    "OP_[2][OP_Gf_[2] <= 0] = 0\n",
    "OP_[3][OP_Gf_[3] <= 0] = 0\n",
    "OP_[4][OP_Gf_[4] <= 0] = 0\n",
    "OP_[5][OP_Gf_[5] <= 0] = 0\n",
    "OP_[6][OP_Gf_[6] <= 0] = 0\n",
    "OP_[7][OP_Gf_[7] <= 0] = 0\n",
    "OP_[8][OP_Gf_[8] <= 0] = 0"
   ]
  },
  {
   "cell_type": "code",
   "execution_count": null,
   "id": "da30a7d0-b55a-4bc9-9bb0-9ad1c3212530",
   "metadata": {},
   "outputs": [],
   "source": [
    "# strels\n",
    "strel1 = ndi.generate_binary_structure(3,1)\n",
    "strel2 = ndi.generate_binary_structure(3,3)"
   ]
  },
  {
   "cell_type": "code",
   "execution_count": null,
   "id": "4235656b-fa6a-49b9-83d2-13e3510f3bb0",
   "metadata": {},
   "outputs": [],
   "source": [
    "distances_f1 = DistanceFields(\n",
    "    volume=OP_[0],\n",
    "    sigma_range=(1, 7, 2),\n",
    "    neuron_threshold=0.05,\n",
    "    seed_point=root_[0],\n",
    ")\n",
    "\n",
    "img_filtered = distances_f1.multiscale_anisotropic()\n",
    "\n",
    "img_mask = distances_f1.adaptive_mean_mask(img_filtered)[0]\n",
    "\n",
    "clean_img_mask = img_as_bool(distances_f1.morphological_denoising(img_mask))\n",
    "\n",
    "seg_vol = distances_f1.volume_segmentation(clean_img_mask, OP_[0])\n",
    "\n",
    "pressure_field = distances_f1.pressure_field(clean_img_mask)\n",
    "\n",
    "thrust_field = distances_f1.thrust_field(clean_img_mask)\n"
   ]
  },
  {
   "cell_type": "code",
   "execution_count": null,
   "id": "26e544ec",
   "metadata": {},
   "outputs": [],
   "source": [
    "pressure_f_gaussian = ndi.gaussian_filter(pressure_field, 1.0)\n",
    "thrust_f_gaussian = ndi.gaussian_filter(thrust_field, 0.5)\n"
   ]
  },
  {
   "cell_type": "code",
   "execution_count": null,
   "id": "3ecaeb78",
   "metadata": {},
   "outputs": [],
   "source": [
    "maximas_set = distances_f1.find_thrust_maxima(thrust_f_gaussian, clean_img_mask, order=3)\n",
    "skel_coords = distances_f1.generate_skel_from_seed(maximas_set, root_[0], pressure_f_gaussian, clean_img_mask)"
   ]
  },
  {
   "cell_type": "code",
   "execution_count": null,
   "id": "cbac3da3",
   "metadata": {},
   "outputs": [],
   "source": [
    "skel = create_maxima_image(skel_coords, OP_[0].shape)"
   ]
  },
  {
   "cell_type": "code",
   "execution_count": null,
   "id": "67827f4c-9039-4cb9-85b7-63701b74cc4a",
   "metadata": {},
   "outputs": [],
   "source": [
    "# distances_f1.set_skeleton(skel)\n",
    "# skel_OP1 = distances_f1.get_skeleton()"
   ]
  },
  {
   "cell_type": "code",
   "execution_count": null,
   "id": "d04f2192",
   "metadata": {},
   "outputs": [],
   "source": [
    "skeleton = skeletonize(skel)"
   ]
  },
  {
   "cell_type": "code",
   "execution_count": null,
   "id": "81c9f628",
   "metadata": {},
   "outputs": [],
   "source": [
    "# 5. Geração do Grafo\n",
    "g = Graph(skeleton)\n",
    "g.create_graph(moving_avg=True)\n",
    "\n",
    "g.prune_by_branch_length(10)\n",
    "\n",
    "# 7. Validação da Raiz\n",
    "pruned_skel_img = np.zeros(OP_[0].shape, dtype=np.uint8)\n",
    "if g.get_graph().number_of_nodes() > 0:\n",
    "    nodes = np.array(list(g.get_graph().nodes())).astype(int)\n",
    "    pruned_skel_img[nodes[:, 0], nodes[:, 1], nodes[:, 2]] = 255"
   ]
  },
  {
   "cell_type": "code",
   "execution_count": null,
   "id": "37c56a4f",
   "metadata": {},
   "outputs": [],
   "source": [
    "g.get_graph().number_of_nodes()"
   ]
  },
  {
   "cell_type": "code",
   "execution_count": null,
   "id": "44555d89",
   "metadata": {},
   "outputs": [],
   "source": [
    "g.set_root(distances_f1.correct_and_update_root(pruned_skel_img, root_[0])) # Use a raiz validada!\n",
    "labeled_mst = g.apply_dfs_and_label_nodes()\n",
    "output_filename = \"neuron_1.5_reconstruction_robust.swc\"\n",
    "success = g.save_to_swc(labeled_mst, output_filename, pressure_f_gaussian)"
   ]
  },
  {
   "cell_type": "code",
   "execution_count": null,
   "id": "bc70c0fa-cce7-423e-9075-7e8d3449858d",
   "metadata": {},
   "outputs": [],
   "source": [
    "plot_projections(\n",
    "    images=[img_filtered, seg_vol, img_mask,\n",
    "            thrust_field, thrust_f_gaussian, pressure_field, pressure_f_gaussian,\n",
    "            skel, skeleton, pruned_skel_img],\n",
    "    aggregations=\"max\",\n",
    "    axes=0,\n",
    "    cmaps=\"viridis\",\n",
    "    title=\"OP_1 \"\n",
    ")"
   ]
  },
  {
   "cell_type": "code",
   "execution_count": null,
   "id": "8f5337ee",
   "metadata": {},
   "outputs": [],
   "source": [
    "distances_f2 = DistanceFields(\n",
    "    volume=OP_[1],\n",
    "    sigma_range=(1, 7, 2),\n",
    "    neuron_threshold=0.05,\n",
    "    seed_point=root_[1],\n",
    ")\n",
    "\n",
    "img_filtered = distances_f2.multiscale_anisotropic()\n",
    "\n",
    "img_mask = distances_f2.adaptive_mean_mask(img_filtered)[0]\n",
    "\n",
    "clean_img_mask = img_as_bool(distances_f2.morphological_denoising(img_mask))\n",
    "\n",
    "seg_vol = distances_f2.volume_segmentation(clean_img_mask, OP_[1])\n",
    "\n",
    "pressure_field = distances_f2.pressure_field(clean_img_mask)\n",
    "\n",
    "thrust_field = distances_f2.thrust_field(clean_img_mask)\n",
    "\n",
    "# skel = skeletonize(clean_img_mask)\n",
    "\n"
   ]
  },
  {
   "cell_type": "code",
   "execution_count": null,
   "id": "f74aa51a",
   "metadata": {},
   "outputs": [],
   "source": [
    "pressure_f_gaussian = ndi.gaussian_filter(pressure_field, 1.0)\n",
    "thrust_f_gaussian = ndi.gaussian_filter(thrust_field, 0.5)\n"
   ]
  },
  {
   "cell_type": "code",
   "execution_count": null,
   "id": "e8eeb68d",
   "metadata": {},
   "outputs": [],
   "source": [
    "maximas_set = distances_f2.find_thrust_maxima(thrust_f_gaussian, clean_img_mask, order=3)\n",
    "skel_coords = distances_f2.generate_skel_from_seed(maximas_set, root_[1], pressure_f_gaussian, clean_img_mask)"
   ]
  },
  {
   "cell_type": "code",
   "execution_count": null,
   "id": "7196266b",
   "metadata": {},
   "outputs": [],
   "source": [
    "skel = create_maxima_image(skel_coords, OP_[1].shape)"
   ]
  },
  {
   "cell_type": "code",
   "execution_count": null,
   "id": "badded7f",
   "metadata": {},
   "outputs": [],
   "source": [
    "# distances_f1.set_skeleton(skel)\n",
    "# skel_OP1 = distances_f1.get_skeleton()"
   ]
  },
  {
   "cell_type": "code",
   "execution_count": null,
   "id": "a4513a7a",
   "metadata": {},
   "outputs": [],
   "source": [
    "skeleton = skeletonize(skel)"
   ]
  },
  {
   "cell_type": "code",
   "execution_count": null,
   "id": "3c3f29f7",
   "metadata": {},
   "outputs": [],
   "source": [
    "g = Graph(skeleton)\n",
    "g.create_graph(moving_avg=True)\n",
    "\n",
    "g.prune_by_branch_length(10)\n",
    "\n",
    "pruned_skel_img = np.zeros(OP_[1].shape, dtype=np.uint8)\n",
    "if g.get_graph().number_of_nodes() > 0:\n",
    "    nodes = np.array(list(g.get_graph().nodes())).astype(int)\n",
    "    pruned_skel_img[nodes[:, 0], nodes[:, 1], nodes[:, 2]] = 255"
   ]
  },
  {
   "cell_type": "code",
   "execution_count": null,
   "id": "c7721850",
   "metadata": {},
   "outputs": [],
   "source": [
    "g.get_graph().number_of_nodes()"
   ]
  },
  {
   "cell_type": "code",
   "execution_count": null,
   "id": "d2d55ce8",
   "metadata": {},
   "outputs": [],
   "source": [
    "g.set_root(distances_f1.correct_and_update_root(pruned_skel_img, root_[1])) # Use a raiz validada!\n",
    "labeled_mst = g.apply_dfs_and_label_nodes()\n",
    "output_filename = \"neuron_2.1_reconstruction_robust.swc\"\n",
    "success = g.save_to_swc(labeled_mst, output_filename, pressure_f_gaussian)"
   ]
  },
  {
   "cell_type": "code",
   "execution_count": null,
   "id": "221b7656",
   "metadata": {},
   "outputs": [],
   "source": [
    "plot_projections(\n",
    "    images=[img_filtered, seg_vol, img_mask,\n",
    "            thrust_field, thrust_f_gaussian, pressure_field, pressure_f_gaussian,\n",
    "            skel, skeleton, pruned_skel_img],\n",
    "    aggregations=\"max\",\n",
    "    axes=0,\n",
    "    cmaps=\"viridis\",\n",
    "    title=\"OP_2 \"\n",
    ")"
   ]
  },
  {
   "cell_type": "code",
   "execution_count": null,
   "id": "107166bf",
   "metadata": {},
   "outputs": [],
   "source": [
    "distances_f3 = DistanceFields(\n",
    "    volume=OP_[2],\n",
    "    sigma_range=(1, 7, 2),\n",
    "    neuron_threshold=0.05,\n",
    "    seed_point=root_[2],\n",
    ")\n",
    "\n",
    "img_filtered = distances_f3.multiscale_anisotropic()\n",
    "\n",
    "img_mask = distances_f3.adaptive_mean_mask(img_filtered)[0]\n",
    "\n",
    "clean_img_mask = img_as_bool(distances_f3.morphological_denoising(img_mask))\n",
    "\n",
    "seg_vol = distances_f3.volume_segmentation(clean_img_mask, OP_[2])\n",
    "\n",
    "pressure_field = distances_f3.pressure_field(clean_img_mask)\n",
    "\n",
    "thrust_field = distances_f3.thrust_field(clean_img_mask)\n"
   ]
  },
  {
   "cell_type": "code",
   "execution_count": null,
   "id": "03484930",
   "metadata": {},
   "outputs": [],
   "source": [
    "pressure_f_gaussian = ndi.gaussian_filter(pressure_field, 1.0)\n",
    "thrust_f_gaussian = ndi.gaussian_filter(thrust_field, 0.5)\n"
   ]
  },
  {
   "cell_type": "code",
   "execution_count": null,
   "id": "f15955af",
   "metadata": {},
   "outputs": [],
   "source": [
    "maximas_set = distances_f3.find_thrust_maxima(thrust_f_gaussian, clean_img_mask, order=3)\n",
    "skel_coords = distances_f3.generate_skel_from_seed(maximas_set, root_[2], pressure_f_gaussian, clean_img_mask)"
   ]
  },
  {
   "cell_type": "code",
   "execution_count": null,
   "id": "d5067a6f",
   "metadata": {},
   "outputs": [],
   "source": [
    "skel = create_maxima_image(skel_coords, OP_[2].shape)"
   ]
  },
  {
   "cell_type": "code",
   "execution_count": null,
   "id": "403e7f69",
   "metadata": {},
   "outputs": [],
   "source": [
    "skeleton = skeletonize(skel)"
   ]
  },
  {
   "cell_type": "code",
   "execution_count": null,
   "id": "4a57bf88",
   "metadata": {},
   "outputs": [],
   "source": [
    "# 5. Geração do Grafo\n",
    "g = Graph(skeleton)\n",
    "g.create_graph(moving_avg=True)\n",
    "\n",
    "g.prune_by_branch_length(10)\n",
    "\n",
    "# 7. Validação da Raiz\n",
    "pruned_skel_img = np.zeros(OP_[2].shape, dtype=np.uint8)\n",
    "if g.get_graph().number_of_nodes() > 0:\n",
    "    nodes = np.array(list(g.get_graph().nodes())).astype(int)\n",
    "    pruned_skel_img[nodes[:, 0], nodes[:, 1], nodes[:, 2]] = 255"
   ]
  },
  {
   "cell_type": "code",
   "execution_count": null,
   "id": "2ea5a5c7",
   "metadata": {},
   "outputs": [],
   "source": [
    "g.get_graph().number_of_nodes()"
   ]
  },
  {
   "cell_type": "code",
   "execution_count": null,
   "id": "e4fbeb45",
   "metadata": {},
   "outputs": [],
   "source": [
    "g.set_root(distances_f3.correct_and_update_root(pruned_skel_img, root_[2])) # Use a raiz validada!\n",
    "labeled_mst = g.apply_dfs_and_label_nodes()\n",
    "output_filename = \"neuron_3.0_reconstruction_robust.swc\"\n",
    "success = g.save_to_swc(labeled_mst, output_filename, pressure_f_gaussian)"
   ]
  },
  {
   "cell_type": "code",
   "execution_count": null,
   "id": "1f2fb0e4",
   "metadata": {},
   "outputs": [],
   "source": [
    "plot_projections(\n",
    "    images=[img_filtered, seg_vol, img_mask,\n",
    "            thrust_field, thrust_f_gaussian, pressure_field, pressure_f_gaussian,\n",
    "            skel, skeleton, pruned_skel_img],\n",
    "    aggregations=\"max\",\n",
    "    axes=0,\n",
    "    cmaps=\"viridis\",\n",
    "    title=\"OP_1 \"\n",
    ")"
   ]
  },
  {
   "cell_type": "code",
   "execution_count": null,
   "id": "e1136a57",
   "metadata": {},
   "outputs": [],
   "source": []
  },
  {
   "cell_type": "code",
   "execution_count": null,
   "id": "5a7ce644",
   "metadata": {},
   "outputs": [],
   "source": []
  },
  {
   "cell_type": "code",
   "execution_count": null,
   "id": "ea480e0a",
   "metadata": {},
   "outputs": [],
   "source": []
  },
  {
   "cell_type": "code",
   "execution_count": null,
   "id": "3cd3d291",
   "metadata": {},
   "outputs": [],
   "source": []
  },
  {
   "cell_type": "code",
   "execution_count": null,
   "id": "4ebf6176",
   "metadata": {},
   "outputs": [],
   "source": []
  },
  {
   "cell_type": "code",
   "execution_count": null,
   "id": "9299249a",
   "metadata": {},
   "outputs": [],
   "source": [
    "distances_f4 = DistanceFields(\n",
    "    volume=OP_[3],\n",
    "    sigma_range=(1, 7, 2),\n",
    "    neuron_threshold=0.05,\n",
    "    seed_point=root_[3],\n",
    ")\n",
    "\n",
    "img_filtered = distances_f4.multiscale_anisotropic()\n",
    "\n",
    "img_mask = distances_f4.adaptive_mean_mask(img_filtered)[0]\n",
    "\n",
    "clean_img_mask = img_as_bool(distances_f4.morphological_denoising(img_mask))\n",
    "\n",
    "seg_vol = distances_f4.volume_segmentation(clean_img_mask, OP_[3])\n",
    "\n",
    "pressure_field = distances_f4.pressure_field(clean_img_mask)\n",
    "\n",
    "thrust_field = distances_f4.thrust_field(clean_img_mask)\n"
   ]
  },
  {
   "cell_type": "code",
   "execution_count": null,
   "id": "17f6e4df",
   "metadata": {},
   "outputs": [],
   "source": [
    "pressure_f_gaussian = ndi.gaussian_filter(pressure_field, 1.0)\n",
    "thrust_f_gaussian = ndi.gaussian_filter(thrust_field, 0.5)\n"
   ]
  },
  {
   "cell_type": "code",
   "execution_count": null,
   "id": "b8689478",
   "metadata": {},
   "outputs": [],
   "source": [
    "maximas_set = distances_f4.find_thrust_maxima(thrust_f_gaussian, clean_img_mask, order=3)\n",
    "skel_coords = distances_f4.generate_skel_from_seed(maximas_set, root_[3], pressure_f_gaussian, clean_img_mask)"
   ]
  },
  {
   "cell_type": "code",
   "execution_count": null,
   "id": "db9568eb",
   "metadata": {},
   "outputs": [],
   "source": [
    "skel = create_maxima_image(skel_coords, OP_[3].shape)"
   ]
  },
  {
   "cell_type": "code",
   "execution_count": null,
   "id": "4a20a05d",
   "metadata": {},
   "outputs": [],
   "source": [
    "skeleton = skeletonize(skel)"
   ]
  },
  {
   "cell_type": "code",
   "execution_count": null,
   "id": "6199ce0d",
   "metadata": {},
   "outputs": [],
   "source": [
    "# 5. Geração do Grafo\n",
    "g = Graph(skeleton)\n",
    "g.create_graph(moving_avg=True)\n",
    "\n",
    "g.prune_by_branch_length(10)\n",
    "\n",
    "# 7. Validação da Raiz\n",
    "pruned_skel_img = np.zeros(OP_[3].shape, dtype=np.uint8)\n",
    "if g.get_graph().number_of_nodes() > 0:\n",
    "    nodes = np.array(list(g.get_graph().nodes())).astype(int)\n",
    "    pruned_skel_img[nodes[:, 0], nodes[:, 1], nodes[:, 2]] = 255"
   ]
  },
  {
   "cell_type": "code",
   "execution_count": null,
   "id": "17be49c0",
   "metadata": {},
   "outputs": [],
   "source": [
    "g.get_graph().number_of_nodes()"
   ]
  },
  {
   "cell_type": "code",
   "execution_count": null,
   "id": "f29fad07",
   "metadata": {},
   "outputs": [],
   "source": [
    "g.set_root(distances_f3.correct_and_update_root(pruned_skel_img, root_[3])) # Use a raiz validada!\n",
    "labeled_mst = g.apply_dfs_and_label_nodes()\n",
    "output_filename = \"neuron_4.0_reconstruction_robust.swc\"\n",
    "success = g.save_to_swc(labeled_mst, output_filename, pressure_f_gaussian)"
   ]
  },
  {
   "cell_type": "code",
   "execution_count": null,
   "id": "0279f0a6",
   "metadata": {},
   "outputs": [],
   "source": [
    "plot_projections(\n",
    "    images=[img_filtered, seg_vol, img_mask,\n",
    "            thrust_field, thrust_f_gaussian, pressure_field, pressure_f_gaussian,\n",
    "            skel, skeleton, pruned_skel_img],\n",
    "    aggregations=\"max\",\n",
    "    axes=0,\n",
    "    cmaps=\"viridis\",\n",
    "    title=\"OP_4 \"\n",
    ")"
   ]
  }
 ],
 "metadata": {
  "kernelspec": {
   "display_name": "base",
   "language": "python",
   "name": "python3"
  },
  "language_info": {
   "codemirror_mode": {
    "name": "ipython",
    "version": 3
   },
   "file_extension": ".py",
   "mimetype": "text/x-python",
   "name": "python",
   "nbconvert_exporter": "python",
   "pygments_lexer": "ipython3"
  }
 },
 "nbformat": 4,
 "nbformat_minor": 5
}
