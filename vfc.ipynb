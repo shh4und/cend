{
 "cells": [
  {
   "cell_type": "code",
   "execution_count": 1,
   "id": "64dd0ad3-0c39-42c0-86bb-202519696b9b",
   "metadata": {
    "execution": {
     "iopub.execute_input": "2025-06-03T02:58:25.163244Z",
     "iopub.status.busy": "2025-06-03T02:58:25.163024Z",
     "iopub.status.idle": "2025-06-03T02:58:25.404708Z",
     "shell.execute_reply": "2025-06-03T02:58:25.404326Z",
     "shell.execute_reply.started": "2025-06-03T02:58:25.163223Z"
    }
   },
   "outputs": [],
   "source": [
    "import cv2\n",
    "import numpy as np\n",
    "from scipy import ndimage as ndi\n",
    "from skimage.util import img_as_ubyte, img_as_float"
   ]
  },
  {
   "cell_type": "code",
   "execution_count": 2,
   "id": "434b9c3b-8060-4b42-86d3-2d2031a12181",
   "metadata": {
    "execution": {
     "iopub.execute_input": "2025-06-03T02:58:25.405341Z",
     "iopub.status.busy": "2025-06-03T02:58:25.405077Z",
     "iopub.status.idle": "2025-06-03T02:58:26.058660Z",
     "shell.execute_reply": "2025-06-03T02:58:26.058246Z",
     "shell.execute_reply.started": "2025-06-03T02:58:25.405327Z"
    }
   },
   "outputs": [],
   "source": [
    "from image_io import *\n",
    "from utils import *\n",
    "from cevd import *\n",
    "from visualize import *\n",
    "from vfc import *"
   ]
  },
  {
   "cell_type": "code",
   "execution_count": 3,
   "id": "5e19a87c-d477-472c-a171-81fea52e51ec",
   "metadata": {
    "execution": {
     "iopub.execute_input": "2025-06-03T02:58:26.059188Z",
     "iopub.status.busy": "2025-06-03T02:58:26.058996Z",
     "iopub.status.idle": "2025-06-03T02:58:26.086330Z",
     "shell.execute_reply": "2025-06-03T02:58:26.085979Z",
     "shell.execute_reply.started": "2025-06-03T02:58:26.059175Z"
    }
   },
   "outputs": [],
   "source": [
    "vol_OP_1 = load_3d_volume(\"data/OP_1\")"
   ]
  },
  {
   "cell_type": "code",
   "execution_count": 4,
   "id": "5256c259-d57d-4273-976b-0c5a7ad44f42",
   "metadata": {
    "execution": {
     "iopub.execute_input": "2025-06-03T02:58:26.086781Z",
     "iopub.status.busy": "2025-06-03T02:58:26.086664Z",
     "iopub.status.idle": "2025-06-03T02:58:26.597060Z",
     "shell.execute_reply": "2025-06-03T02:58:26.596769Z",
     "shell.execute_reply.started": "2025-06-03T02:58:26.086771Z"
    }
   },
   "outputs": [],
   "source": [
    "vol_OP_1_gauss1 = ndi.minimum_filter(vol_OP_1, 2)\n",
    "vol_OP_1_gauss1 = ndi.gaussian_filter(vol_OP_1_gauss1, 2.0)"
   ]
  },
  {
   "cell_type": "code",
   "execution_count": 5,
   "id": "d3a1f854-d8d2-4ae5-b3c8-fab533a31ffc",
   "metadata": {
    "execution": {
     "iopub.execute_input": "2025-06-03T02:58:26.597517Z",
     "iopub.status.busy": "2025-06-03T02:58:26.597394Z",
     "iopub.status.idle": "2025-06-03T02:58:26.599802Z",
     "shell.execute_reply": "2025-06-03T02:58:26.599396Z",
     "shell.execute_reply.started": "2025-06-03T02:58:26.597502Z"
    }
   },
   "outputs": [],
   "source": [
    "sigma_scale_space1 = np.linspace(1, 4, 4)"
   ]
  },
  {
   "cell_type": "code",
   "execution_count": 6,
   "id": "ce7936e3-0b14-4f04-9ba2-5888b6148545",
   "metadata": {
    "execution": {
     "iopub.execute_input": "2025-06-03T02:58:26.600940Z",
     "iopub.status.busy": "2025-06-03T02:58:26.600791Z",
     "iopub.status.idle": "2025-06-03T02:59:43.799726Z",
     "shell.execute_reply": "2025-06-03T02:59:43.799317Z",
     "shell.execute_reply.started": "2025-06-03T02:58:26.600928Z"
    }
   },
   "outputs": [],
   "source": [
    "vfc_result1 = scale_space_medialness_3d(vol_OP_1_gauss1, 7, sigma_scale_space1)"
   ]
  },
  {
   "cell_type": "code",
   "execution_count": 7,
   "id": "bd759eb0-b0c3-49b1-86f0-a8e6ef77ea57",
   "metadata": {
    "execution": {
     "iopub.execute_input": "2025-06-03T02:59:43.800172Z",
     "iopub.status.busy": "2025-06-03T02:59:43.800066Z",
     "iopub.status.idle": "2025-06-03T02:59:43.803697Z",
     "shell.execute_reply": "2025-06-03T02:59:43.803422Z",
     "shell.execute_reply.started": "2025-06-03T02:59:43.800163Z"
    }
   },
   "outputs": [
    {
     "data": {
      "text/plain": [
       "((60, 512, 512), dtype('float64'))"
      ]
     },
     "execution_count": 7,
     "metadata": {},
     "output_type": "execute_result"
    }
   ],
   "source": [
    "vfc_result1.shape, vfc_result1.dtype"
   ]
  },
  {
   "cell_type": "code",
   "execution_count": 8,
   "id": "a8f30c99-c16c-45cc-9973-5ee0f39646c5",
   "metadata": {
    "execution": {
     "iopub.execute_input": "2025-06-03T02:59:43.804101Z",
     "iopub.status.busy": "2025-06-03T02:59:43.804000Z",
     "iopub.status.idle": "2025-06-03T02:59:59.179700Z",
     "shell.execute_reply": "2025-06-03T02:59:59.179151Z",
     "shell.execute_reply.started": "2025-06-03T02:59:43.804091Z"
    }
   },
   "outputs": [],
   "source": [
    "slide_imshow(vfc_result1)"
   ]
  },
  {
   "cell_type": "code",
   "execution_count": 9,
   "id": "4682bf27-873c-4fea-a2b9-fbc84960d041",
   "metadata": {
    "execution": {
     "iopub.execute_input": "2025-06-03T02:59:59.180739Z",
     "iopub.status.busy": "2025-06-03T02:59:59.180583Z",
     "iopub.status.idle": "2025-06-03T02:59:59.678773Z",
     "shell.execute_reply": "2025-06-03T02:59:59.678406Z",
     "shell.execute_reply.started": "2025-06-03T02:59:59.180726Z"
    }
   },
   "outputs": [],
   "source": [
    "coords, values = local_maxima_3D(vfc_result1, order=1)"
   ]
  },
  {
   "cell_type": "code",
   "execution_count": 10,
   "id": "cea8be77-a680-4f92-8834-9d1c96928331",
   "metadata": {
    "execution": {
     "iopub.execute_input": "2025-06-03T02:59:59.679232Z",
     "iopub.status.busy": "2025-06-03T02:59:59.679118Z",
     "iopub.status.idle": "2025-06-03T02:59:59.681358Z",
     "shell.execute_reply": "2025-06-03T02:59:59.681072Z",
     "shell.execute_reply.started": "2025-06-03T02:59:59.679218Z"
    }
   },
   "outputs": [],
   "source": [
    "maxima_vol = create_maxima_image(coords, vol_OP_1.shape)"
   ]
  },
  {
   "cell_type": "code",
   "execution_count": 11,
   "id": "743e03ec-e230-47ce-aed5-e88e01854079",
   "metadata": {
    "execution": {
     "iopub.execute_input": "2025-06-03T02:59:59.681756Z",
     "iopub.status.busy": "2025-06-03T02:59:59.681650Z",
     "iopub.status.idle": "2025-06-03T03:00:01.709701Z",
     "shell.execute_reply": "2025-06-03T03:00:01.709239Z",
     "shell.execute_reply.started": "2025-06-03T02:59:59.681746Z"
    }
   },
   "outputs": [
    {
     "data": {
      "text/plain": [
       "True"
      ]
     },
     "execution_count": 11,
     "metadata": {},
     "output_type": "execute_result"
    }
   ],
   "source": [
    "simple_imshow([np.max(maxima_vol, axis=0)])"
   ]
  },
  {
   "cell_type": "code",
   "execution_count": null,
   "id": "97c56cc6-302f-4a7e-a27d-229b9597d9c5",
   "metadata": {},
   "outputs": [],
   "source": []
  }
 ],
 "metadata": {
  "kernelspec": {
   "display_name": "Python 3 (ipykernel)",
   "language": "python",
   "name": "python3"
  },
  "language_info": {
   "codemirror_mode": {
    "name": "ipython",
    "version": 3
   },
   "file_extension": ".py",
   "mimetype": "text/x-python",
   "name": "python",
   "nbconvert_exporter": "python",
   "pygments_lexer": "ipython3",
   "version": "3.12.10"
  }
 },
 "nbformat": 4,
 "nbformat_minor": 5
}
