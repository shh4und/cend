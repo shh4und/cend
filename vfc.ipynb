{
 "cells": [
  {
   "cell_type": "code",
   "execution_count": 1,
   "id": "64dd0ad3-0c39-42c0-86bb-202519696b9b",
   "metadata": {
    "execution": {
     "iopub.execute_input": "2025-06-08T00:39:47.427366Z",
     "iopub.status.busy": "2025-06-08T00:39:47.427094Z",
     "iopub.status.idle": "2025-06-08T00:39:47.671477Z",
     "shell.execute_reply": "2025-06-08T00:39:47.671168Z",
     "shell.execute_reply.started": "2025-06-08T00:39:47.427346Z"
    }
   },
   "outputs": [],
   "source": [
    "import cv2\n",
    "import numpy as np\n",
    "from scipy import ndimage as ndi\n",
    "from skimage.util import img_as_ubyte, img_as_float"
   ]
  },
  {
   "cell_type": "code",
   "execution_count": 2,
   "id": "434b9c3b-8060-4b42-86d3-2d2031a12181",
   "metadata": {
    "execution": {
     "iopub.execute_input": "2025-06-08T00:39:47.671990Z",
     "iopub.status.busy": "2025-06-08T00:39:47.671832Z",
     "iopub.status.idle": "2025-06-08T00:39:48.274067Z",
     "shell.execute_reply": "2025-06-08T00:39:48.273764Z",
     "shell.execute_reply.started": "2025-06-08T00:39:47.671977Z"
    }
   },
   "outputs": [],
   "source": [
    "from image_io import *\n",
    "from utils import *\n",
    "from cevd import *\n",
    "from visualize import *\n",
    "from vfc import *"
   ]
  },
  {
   "cell_type": "code",
   "execution_count": 3,
   "id": "5e19a87c-d477-472c-a171-81fea52e51ec",
   "metadata": {
    "execution": {
     "iopub.execute_input": "2025-06-08T00:39:48.274744Z",
     "iopub.status.busy": "2025-06-08T00:39:48.274435Z",
     "iopub.status.idle": "2025-06-08T00:39:48.360189Z",
     "shell.execute_reply": "2025-06-08T00:39:48.359738Z",
     "shell.execute_reply.started": "2025-06-08T00:39:48.274730Z"
    }
   },
   "outputs": [],
   "source": [
    "vol_OP_1 = load_3d_volume(\"data/OP_5\")"
   ]
  },
  {
   "cell_type": "code",
   "execution_count": 4,
   "id": "5256c259-d57d-4273-976b-0c5a7ad44f42",
   "metadata": {
    "execution": {
     "iopub.execute_input": "2025-06-08T00:39:48.360725Z",
     "iopub.status.busy": "2025-06-08T00:39:48.360596Z",
     "iopub.status.idle": "2025-06-08T00:39:49.019050Z",
     "shell.execute_reply": "2025-06-08T00:39:49.018740Z",
     "shell.execute_reply.started": "2025-06-08T00:39:48.360714Z"
    }
   },
   "outputs": [],
   "source": [
    "vol_OP_1_min1 = ndi.minimum_filter(vol_OP_1, 2)\n",
    "vol_OP_1_gauss1 = ndi.gaussian_filter(vol_OP_1_min1, 2.0)"
   ]
  },
  {
   "cell_type": "code",
   "execution_count": 5,
   "id": "287193f6-8e93-4856-b22d-181854a4548d",
   "metadata": {
    "execution": {
     "iopub.execute_input": "2025-06-08T00:39:49.019497Z",
     "iopub.status.busy": "2025-06-08T00:39:49.019376Z",
     "iopub.status.idle": "2025-06-08T00:39:49.021474Z",
     "shell.execute_reply": "2025-06-08T00:39:49.021161Z",
     "shell.execute_reply.started": "2025-06-08T00:39:49.019483Z"
    }
   },
   "outputs": [],
   "source": [
    "#slide_imshow(vol_OP_1_frangi)"
   ]
  },
  {
   "cell_type": "code",
   "execution_count": 6,
   "id": "28bfde35-bd40-4286-bad0-67787ee353d3",
   "metadata": {
    "execution": {
     "iopub.execute_input": "2025-06-08T00:39:49.022790Z",
     "iopub.status.busy": "2025-06-08T00:39:49.022474Z",
     "iopub.status.idle": "2025-06-08T00:40:11.948530Z",
     "shell.execute_reply": "2025-06-08T00:40:11.946208Z",
     "shell.execute_reply.started": "2025-06-08T00:39:49.022772Z"
    }
   },
   "outputs": [],
   "source": [
    "simple_imshow([np.max(vol_OP_1_min1, axis=0), np.max(vol_OP_1_gauss1, axis=0)])"
   ]
  },
  {
   "cell_type": "code",
   "execution_count": 7,
   "id": "390c5149-a28a-48c2-9c6f-a9e321d75017",
   "metadata": {
    "execution": {
     "iopub.execute_input": "2025-06-08T00:40:11.949346Z",
     "iopub.status.busy": "2025-06-08T00:40:11.949049Z",
     "iopub.status.idle": "2025-06-08T00:40:11.957113Z",
     "shell.execute_reply": "2025-06-08T00:40:11.956707Z",
     "shell.execute_reply.started": "2025-06-08T00:40:11.949325Z"
    }
   },
   "outputs": [
    {
     "data": {
      "text/plain": [
       "array([1., 2., 3.])"
      ]
     },
     "execution_count": 7,
     "metadata": {},
     "output_type": "execute_result"
    }
   ],
   "source": [
    "scale_space = np.arange(1.0, 4.0, 1.0)\n",
    "scale_space"
   ]
  },
  {
   "cell_type": "code",
   "execution_count": 8,
   "id": "ce7936e3-0b14-4f04-9ba2-5888b6148545",
   "metadata": {
    "execution": {
     "iopub.execute_input": "2025-06-08T00:40:11.958236Z",
     "iopub.status.busy": "2025-06-08T00:40:11.958056Z",
     "iopub.status.idle": "2025-06-08T00:41:23.896178Z",
     "shell.execute_reply": "2025-06-08T00:41:23.895670Z",
     "shell.execute_reply.started": "2025-06-08T00:40:11.958218Z"
    }
   },
   "outputs": [],
   "source": [
    "vfc_result1 = scale_space_medialness_3d(vol_OP_1_gauss1, 7, scale_space)"
   ]
  },
  {
   "cell_type": "code",
   "execution_count": 9,
   "id": "bd759eb0-b0c3-49b1-86f0-a8e6ef77ea57",
   "metadata": {
    "execution": {
     "iopub.execute_input": "2025-06-08T00:41:23.896745Z",
     "iopub.status.busy": "2025-06-08T00:41:23.896626Z",
     "iopub.status.idle": "2025-06-08T00:41:23.899219Z",
     "shell.execute_reply": "2025-06-08T00:41:23.898977Z",
     "shell.execute_reply.started": "2025-06-08T00:41:23.896734Z"
    }
   },
   "outputs": [
    {
     "data": {
      "text/plain": [
       "((76, 512, 512), dtype('float64'))"
      ]
     },
     "execution_count": 9,
     "metadata": {},
     "output_type": "execute_result"
    }
   ],
   "source": [
    "vfc_result1.shape, vfc_result1.dtype"
   ]
  },
  {
   "cell_type": "code",
   "execution_count": 10,
   "id": "a8f30c99-c16c-45cc-9973-5ee0f39646c5",
   "metadata": {
    "execution": {
     "iopub.execute_input": "2025-06-08T00:41:23.899695Z",
     "iopub.status.busy": "2025-06-08T00:41:23.899579Z",
     "iopub.status.idle": "2025-06-08T00:41:23.918221Z",
     "shell.execute_reply": "2025-06-08T00:41:23.917911Z",
     "shell.execute_reply.started": "2025-06-08T00:41:23.899685Z"
    }
   },
   "outputs": [],
   "source": [
    "# slide_imshow(vfc_result1)"
   ]
  },
  {
   "cell_type": "code",
   "execution_count": 11,
   "id": "4682bf27-873c-4fea-a2b9-fbc84960d041",
   "metadata": {
    "execution": {
     "iopub.execute_input": "2025-06-08T00:41:23.918771Z",
     "iopub.status.busy": "2025-06-08T00:41:23.918636Z",
     "iopub.status.idle": "2025-06-08T00:41:24.477693Z",
     "shell.execute_reply": "2025-06-08T00:41:24.477261Z",
     "shell.execute_reply.started": "2025-06-08T00:41:23.918756Z"
    }
   },
   "outputs": [],
   "source": [
    "coords, values = local_maxima_3D(vfc_result1, order=1)"
   ]
  },
  {
   "cell_type": "code",
   "execution_count": 12,
   "id": "cea8be77-a680-4f92-8834-9d1c96928331",
   "metadata": {
    "execution": {
     "iopub.execute_input": "2025-06-08T00:41:24.478168Z",
     "iopub.status.busy": "2025-06-08T00:41:24.478025Z",
     "iopub.status.idle": "2025-06-08T00:41:24.481495Z",
     "shell.execute_reply": "2025-06-08T00:41:24.481122Z",
     "shell.execute_reply.started": "2025-06-08T00:41:24.478154Z"
    }
   },
   "outputs": [],
   "source": [
    "maxima_vol = create_maxima_image(coords, vol_OP_1.shape)"
   ]
  },
  {
   "cell_type": "code",
   "execution_count": 13,
   "id": "743e03ec-e230-47ce-aed5-e88e01854079",
   "metadata": {
    "execution": {
     "iopub.execute_input": "2025-06-08T00:41:24.481946Z",
     "iopub.status.busy": "2025-06-08T00:41:24.481837Z",
     "iopub.status.idle": "2025-06-08T00:41:24.499234Z",
     "shell.execute_reply": "2025-06-08T00:41:24.498831Z",
     "shell.execute_reply.started": "2025-06-08T00:41:24.481935Z"
    }
   },
   "outputs": [],
   "source": [
    "# simple_imshow([np.max(maxima_vol, axis=0)])"
   ]
  },
  {
   "cell_type": "code",
   "execution_count": 14,
   "id": "97c56cc6-302f-4a7e-a27d-229b9597d9c5",
   "metadata": {
    "execution": {
     "iopub.execute_input": "2025-06-08T00:41:24.499668Z",
     "iopub.status.busy": "2025-06-08T00:41:24.499569Z",
     "iopub.status.idle": "2025-06-08T00:41:30.203368Z",
     "shell.execute_reply": "2025-06-08T00:41:30.202926Z",
     "shell.execute_reply.started": "2025-06-08T00:41:24.499659Z"
    }
   },
   "outputs": [
    {
     "name": "stderr",
     "output_type": "stream",
     "text": [
      "INFO:root:Visualizando 509 pontos de máxima.\n",
      "INFO:root:Gerando malha do volume de fundo...\n",
      "INFO:root:Malha do volume de fundo adicionada com limiar no percentil 75.\n",
      "INFO:root:\n",
      "Feche a janela do Open3D para continuar a execução do script.\n"
     ]
    }
   ],
   "source": [
    "o3d_interactive_maxima_points(\n",
    "    maxima_coords=coords,\n",
    "    background_volume=vol_OP_1_gauss1,\n",
    "    point_size=5.0,\n",
    "    threshold_percentile=75   \n",
    ")"
   ]
  }
 ],
 "metadata": {
  "kernelspec": {
   "display_name": "Python 3 (ipykernel)",
   "language": "python",
   "name": "python3"
  },
  "language_info": {
   "codemirror_mode": {
    "name": "ipython",
    "version": 3
   },
   "file_extension": ".py",
   "mimetype": "text/x-python",
   "name": "python",
   "nbconvert_exporter": "python",
   "pygments_lexer": "ipython3",
   "version": "3.12.11"
  }
 },
 "nbformat": 4,
 "nbformat_minor": 5
}
