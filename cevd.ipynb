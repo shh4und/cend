{
 "cells": [
  {
   "cell_type": "code",
   "execution_count": 1,
   "id": "8288dc19-892b-45e4-aa73-cbdf35e831f0",
   "metadata": {
    "execution": {
     "iopub.execute_input": "2025-05-27T12:46:46.946200Z",
     "iopub.status.busy": "2025-05-27T12:46:46.946019Z",
     "iopub.status.idle": "2025-05-27T12:46:47.188241Z",
     "shell.execute_reply": "2025-05-27T12:46:47.187951Z",
     "shell.execute_reply.started": "2025-05-27T12:46:46.946180Z"
    }
   },
   "outputs": [],
   "source": [
    "import cv2\n",
    "import numpy as np\n",
    "from scipy import ndimage as ndi\n",
    "from skimage.util import img_as_ubyte, img_as_float"
   ]
  },
  {
   "cell_type": "code",
   "execution_count": 2,
   "id": "9fce883f-a042-4856-97a7-196665262d09",
   "metadata": {
    "execution": {
     "iopub.execute_input": "2025-05-27T12:46:47.188813Z",
     "iopub.status.busy": "2025-05-27T12:46:47.188585Z",
     "iopub.status.idle": "2025-05-27T12:46:47.758465Z",
     "shell.execute_reply": "2025-05-27T12:46:47.757980Z",
     "shell.execute_reply.started": "2025-05-27T12:46:47.188801Z"
    }
   },
   "outputs": [],
   "source": [
    "from image_io import *\n",
    "from utils import *\n",
    "from cevd import *\n",
    "from visualize import *"
   ]
  },
  {
   "cell_type": "markdown",
   "id": "fc1f470f-94d6-480d-8b03-ab6bd31c1e58",
   "metadata": {},
   "source": [
    "OP_1 (X,Y,Z): (30.979,429.04,0)\n",
    "\n",
    "OP_2 (X,Y,Z): (0.72501,391.08,25)\n",
    "\n",
    "OP_3 (X,Y,Z): (93.742,179,38)\n",
    "\n",
    "OP_4 (X,Y,Z): (128.2,504.37,0.3)\n",
    "\n",
    "OP_5 (X,Y,Z): (185.7,264.02,33)\n",
    "\n",
    "OP_6 (X,Y,Z): (15.074,412.01,10)\n",
    "\n",
    "OP_7 (X,Y,Z): (119.76,215.98,39)\n",
    "\n",
    "OP_8 (X,Y,Z): (118.64,181.34,55)\n",
    "\n",
    "OP_9 (X,Y,Z): (64.56,364.47,4)\n",
    "\n"
   ]
  },
  {
   "cell_type": "code",
   "execution_count": 3,
   "id": "6966d85e",
   "metadata": {
    "execution": {
     "iopub.execute_input": "2025-05-27T12:46:47.759044Z",
     "iopub.status.busy": "2025-05-27T12:46:47.758832Z",
     "iopub.status.idle": "2025-05-27T12:46:47.761479Z",
     "shell.execute_reply": "2025-05-27T12:46:47.761177Z",
     "shell.execute_reply.started": "2025-05-27T12:46:47.759032Z"
    }
   },
   "outputs": [],
   "source": [
    "seed_point1 = (0, 429, 31) \n",
    "seed_point2 = (25, 391, 1)\n",
    "seed_point3 = (38, 179, 94)\n",
    "seed_point5 = (33, 264, 186)"
   ]
  },
  {
   "cell_type": "code",
   "execution_count": 4,
   "id": "d1ef9558-e615-4448-ab40-9d7d3a525164",
   "metadata": {
    "execution": {
     "iopub.execute_input": "2025-05-27T12:46:47.761867Z",
     "iopub.status.busy": "2025-05-27T12:46:47.761767Z",
     "iopub.status.idle": "2025-05-27T12:46:47.803042Z",
     "shell.execute_reply": "2025-05-27T12:46:47.802383Z",
     "shell.execute_reply.started": "2025-05-27T12:46:47.761858Z"
    }
   },
   "outputs": [],
   "source": [
    "vol_3d = load_3d_volume(\"data/OP_1\")"
   ]
  },
  {
   "cell_type": "code",
   "execution_count": 5,
   "id": "8854568c-1af5-43bc-9744-bd1a9d0dcd31",
   "metadata": {
    "execution": {
     "iopub.execute_input": "2025-05-27T12:46:47.803811Z",
     "iopub.status.busy": "2025-05-27T12:46:47.803503Z",
     "iopub.status.idle": "2025-05-27T12:46:47.808474Z",
     "shell.execute_reply": "2025-05-27T12:46:47.808122Z",
     "shell.execute_reply.started": "2025-05-27T12:46:47.803788Z"
    }
   },
   "outputs": [
    {
     "data": {
      "text/plain": [
       "((60, 512, 512), dtype('uint8'))"
      ]
     },
     "execution_count": 5,
     "metadata": {},
     "output_type": "execute_result"
    }
   ],
   "source": [
    "vol_3d.shape, vol_3d.dtype"
   ]
  },
  {
   "cell_type": "code",
   "execution_count": 6,
   "id": "dbf6a6d9-8c67-4b3b-9b2f-c3733795a59c",
   "metadata": {
    "execution": {
     "iopub.execute_input": "2025-05-27T12:46:47.809652Z",
     "iopub.status.busy": "2025-05-27T12:46:47.809501Z",
     "iopub.status.idle": "2025-05-27T12:46:48.111938Z",
     "shell.execute_reply": "2025-05-27T12:46:48.111449Z",
     "shell.execute_reply.started": "2025-05-27T12:46:47.809639Z"
    }
   },
   "outputs": [],
   "source": [
    "vol_3d_gauss1 = ndi.gaussian_filter(vol_3d, 2.0)"
   ]
  },
  {
   "cell_type": "code",
   "execution_count": 7,
   "id": "110ec2c0-14cb-470f-990a-9ae4126aeb70",
   "metadata": {
    "execution": {
     "iopub.execute_input": "2025-05-27T12:46:48.112391Z",
     "iopub.status.busy": "2025-05-27T12:46:48.112282Z",
     "iopub.status.idle": "2025-05-27T12:46:48.115357Z",
     "shell.execute_reply": "2025-05-27T12:46:48.114992Z",
     "shell.execute_reply.started": "2025-05-27T12:46:48.112382Z"
    }
   },
   "outputs": [
    {
     "data": {
      "text/plain": [
       "dtype('uint8')"
      ]
     },
     "execution_count": 7,
     "metadata": {},
     "output_type": "execute_result"
    }
   ],
   "source": [
    "vol_3d_gauss1.dtype"
   ]
  },
  {
   "cell_type": "code",
   "execution_count": null,
   "id": "78520771-17dc-42da-b34d-ad2fe86da0fb",
   "metadata": {
    "execution": {
     "iopub.execute_input": "2025-05-27T12:46:48.115929Z",
     "iopub.status.busy": "2025-05-27T12:46:48.115719Z"
    }
   },
   "outputs": [
    {
     "name": "stderr",
     "output_type": "stream",
     "text": [
      "INFO:VesselCenterlineExtractor:Iniciando extração da linha central a partir da semente: (0, 429, 31)\n",
      "INFO:VesselCenterlineExtractor:Primeiro ponto da linha central C0: (np.int64(0), np.int64(429), np.int64(31))\n",
      "INFO:VesselCenterlineExtractor:No passo: 50, próximo_C: (np.int64(33), np.int64(285), np.int64(55)), cache_size: 10333\n",
      "INFO:VesselCenterlineExtractor:No passo: 100, próximo_C: (np.int64(39), np.int64(245), np.int64(193)), cache_size: 20832\n",
      "INFO:VesselCenterlineExtractor:No passo: 150, próximo_C: (np.int64(35), np.int64(211), np.int64(343)), cache_size: 31435\n"
     ]
    }
   ],
   "source": [
    "\n",
    "# Crie o extrator\n",
    "extractor = VesselCenterlineExtractor(\n",
    "    vol_3d_gauss1,\n",
    "    sigma_range=(1, 4, 1),  # Intervalos menores entre escalas\n",
    "    step_size=3.0,  # Passos menores\n",
    "    vessel_threshold=0.00001,  # Limiar muito mais baixo\n",
    "    search_radius=7,\n",
    "    local_hessian_radius_factor=4\n",
    ")\n",
    "\n",
    "\n",
    "vessel_tree = extractor.extract_centerline(seed_point1, 500, 50)"
   ]
  },
  {
   "cell_type": "code",
   "execution_count": null,
   "id": "151ac4db-4f80-4eab-b847-a18558c6bb74",
   "metadata": {},
   "outputs": [],
   "source": [
    "len(vessel_tree)"
   ]
  },
  {
   "cell_type": "code",
   "execution_count": null,
   "id": "c307f481-a5a4-4d62-9c57-89542e8ead91",
   "metadata": {},
   "outputs": [],
   "source": [
    "o3d_interactive_centerline(vessel_tree, background_volume=vol_3d_gauss1)"
   ]
  },
  {
   "cell_type": "code",
   "execution_count": null,
   "id": "8dc6bd71-ca6e-4c6d-9c08-33fd317474f5",
   "metadata": {},
   "outputs": [],
   "source": [
    "#o3d_interactive_centerline(vessel_tree, background_volume=vol_3d_gauss1)"
   ]
  }
 ],
 "metadata": {
  "kernelspec": {
   "display_name": "Python 3 (ipykernel)",
   "language": "python",
   "name": "python3"
  },
  "language_info": {
   "codemirror_mode": {
    "name": "ipython",
    "version": 3
   },
   "file_extension": ".py",
   "mimetype": "text/x-python",
   "name": "python",
   "nbconvert_exporter": "python",
   "pygments_lexer": "ipython3",
   "version": "3.12.10"
  }
 },
 "nbformat": 4,
 "nbformat_minor": 5
}
