{
 "cells": [
  {
   "cell_type": "code",
   "execution_count": 1,
   "id": "8288dc19-892b-45e4-aa73-cbdf35e831f0",
   "metadata": {
    "execution": {
     "iopub.execute_input": "2025-06-10T21:36:06.651827Z",
     "iopub.status.busy": "2025-06-10T21:36:06.651540Z",
     "iopub.status.idle": "2025-06-10T21:36:06.858363Z",
     "shell.execute_reply": "2025-06-10T21:36:06.857896Z",
     "shell.execute_reply.started": "2025-06-10T21:36:06.651812Z"
    }
   },
   "outputs": [],
   "source": [
    "import cv2\n",
    "import numpy as np\n",
    "from scipy import ndimage as ndi\n",
    "from skimage.util import img_as_ubyte, img_as_float"
   ]
  },
  {
   "cell_type": "code",
   "execution_count": 2,
   "id": "9fce883f-a042-4856-97a7-196665262d09",
   "metadata": {
    "execution": {
     "iopub.execute_input": "2025-06-10T21:36:07.700927Z",
     "iopub.status.busy": "2025-06-10T21:36:07.700629Z",
     "iopub.status.idle": "2025-06-10T21:36:08.251019Z",
     "shell.execute_reply": "2025-06-10T21:36:08.250726Z",
     "shell.execute_reply.started": "2025-06-10T21:36:07.700912Z"
    }
   },
   "outputs": [],
   "source": [
    "from image_io import *\n",
    "from utils import *\n",
    "from cevd import *\n",
    "from visualize import *\n",
    "from vfc import *"
   ]
  },
  {
   "cell_type": "markdown",
   "id": "fc1f470f-94d6-480d-8b03-ab6bd31c1e58",
   "metadata": {},
   "source": [
    "OP_1 (X,Y,Z): (30.979,429.04,0)\n",
    "\n",
    "OP_2 (X,Y,Z): (0.72501,391.08,25)\n",
    "\n",
    "OP_3 (X,Y,Z): (93.742,179,38)\n",
    "\n",
    "OP_4 (X,Y,Z): (128.2,504.37,0.3)\n",
    "\n",
    "OP_5 (X,Y,Z): (185.7,264.02,33)\n",
    "\n",
    "OP_6 (X,Y,Z): (15.074,412.01,10)\n",
    "\n",
    "OP_7 (X,Y,Z): (119.76,215.98,39)\n",
    "\n",
    "OP_8 (X,Y,Z): (118.64,181.34,55)\n",
    "\n",
    "OP_9 (X,Y,Z): (64.56,364.47,4)\n",
    "\n"
   ]
  },
  {
   "cell_type": "code",
   "execution_count": 3,
   "id": "6966d85e",
   "metadata": {
    "execution": {
     "iopub.execute_input": "2025-06-10T21:36:10.692304Z",
     "iopub.status.busy": "2025-06-10T21:36:10.692135Z",
     "iopub.status.idle": "2025-06-10T21:36:10.694655Z",
     "shell.execute_reply": "2025-06-10T21:36:10.694278Z",
     "shell.execute_reply.started": "2025-06-10T21:36:10.692292Z"
    }
   },
   "outputs": [],
   "source": [
    "seed_point1 = (0, 429, 31)\n",
    "seed_point2 = (25, 391, 1)\n",
    "seed_point3 = (38, 179, 94)\n",
    "seed_point4 = (0, 504, 128)\n",
    "seed_point5 = (33, 264, 185)"
   ]
  },
  {
   "cell_type": "code",
   "execution_count": 4,
   "id": "275f3299-a7c3-4c16-b1e3-408778068aa6",
   "metadata": {
    "execution": {
     "iopub.execute_input": "2025-06-10T21:36:13.218457Z",
     "iopub.status.busy": "2025-06-10T21:36:13.218322Z",
     "iopub.status.idle": "2025-06-10T21:36:13.347946Z",
     "shell.execute_reply": "2025-06-10T21:36:13.347615Z",
     "shell.execute_reply.started": "2025-06-10T21:36:13.218446Z"
    }
   },
   "outputs": [],
   "source": [
    "vol_OP_1 = load_3d_volume(\"data/OP_1\")\n",
    "vol_OP_2 = load_3d_volume(\"data/OP_2\")\n",
    "vol_OP_3 = load_3d_volume(\"data/OP_3\")\n",
    "vol_OP_4 = load_3d_volume(\"data/OP_4\")\n",
    "vol_OP_5 = load_3d_volume(\"data/OP_5\")"
   ]
  },
  {
   "cell_type": "code",
   "execution_count": 5,
   "id": "a853ae94-9588-4f0f-8fea-01fd57ccbe22",
   "metadata": {
    "execution": {
     "iopub.execute_input": "2025-06-10T21:36:13.816846Z",
     "iopub.status.busy": "2025-06-10T21:36:13.816670Z",
     "iopub.status.idle": "2025-06-10T21:36:15.535767Z",
     "shell.execute_reply": "2025-06-10T21:36:15.535401Z",
     "shell.execute_reply.started": "2025-06-10T21:36:13.816833Z"
    }
   },
   "outputs": [],
   "source": [
    "vol_OP_1_gauss1 = ndi.gaussian_filter(vol_OP_1, 2.0)\n",
    "vol_OP_2_gauss1 = ndi.gaussian_filter(vol_OP_2, 2.0)\n",
    "vol_OP_3_gauss1 = ndi.gaussian_filter(vol_OP_3, 2.0)\n",
    "vol_OP_4_gauss1 = ndi.gaussian_filter(vol_OP_4, 2.0)\n",
    "vol_OP_5_gauss1 = ndi.gaussian_filter(vol_OP_5, 2.0)"
   ]
  },
  {
   "cell_type": "code",
   "execution_count": 6,
   "id": "50d4740f-fedf-455d-a822-8bf5b03f6627",
   "metadata": {
    "execution": {
     "iopub.execute_input": "2025-06-10T21:36:16.853589Z",
     "iopub.status.busy": "2025-06-10T21:36:16.853434Z",
     "iopub.status.idle": "2025-06-10T21:38:38.818521Z",
     "shell.execute_reply": "2025-06-10T21:38:38.818036Z",
     "shell.execute_reply.started": "2025-06-10T21:36:16.853579Z"
    }
   },
   "outputs": [
    {
     "name": "stderr",
     "output_type": "stream",
     "text": [
      "INFO:VesselCenterlineExtractor:Iniciando extração da linha central a partir da semente: (0, 429, 31)\n",
      "INFO:VesselCenterlineExtractor:Primeiro ponto da linha central C0: (np.int64(0), np.int64(430), np.int64(29))\n",
      "INFO:VesselCenterlineExtractor:No passo: 50, próximo_C: (np.int64(33), np.int64(286), np.int64(53)), cache_size: 5770\n",
      "INFO:VesselCenterlineExtractor:No passo: 100, próximo_C: (np.int64(39), np.int64(246), np.int64(191)), cache_size: 11558\n",
      "INFO:VesselCenterlineExtractor:No passo: 150, próximo_C: (np.int64(35), np.int64(211), np.int64(340)), cache_size: 17393\n",
      "INFO:VesselCenterlineExtractor:Próximo ponto Pk+1=(np.int64(36), np.int64(158), np.int64(376)) resposta 0.0000000 está abaixo do limiar. Terminando.\n",
      "INFO:VesselCenterlineExtractor:Extração da linha central finalizada. Encontrados 174 pontos em 141.9396222 segundos. Tamanho final do cache de autovalores: 19879\n"
     ]
    }
   ],
   "source": [
    "# Crie o extrator\n",
    "extractor_1 = VesselCenterlineExtractor(\n",
    "    vol_OP_1_gauss1,\n",
    "    sigma_range=(1, 4, 1),  \n",
    "    step_size=3.0,  \n",
    "    vessel_threshold=0.00001,  \n",
    "    search_radius=5,\n",
    "    local_hessian_radius_factor=2.5\n",
    ")\n",
    "\n",
    "vessel_tree_OP_1 = extractor_1.extract_centerline(seed_point1, 500, 50)"
   ]
  },
  {
   "cell_type": "code",
   "execution_count": null,
   "id": "eca7a912-c73e-4a13-9b1a-10674950eb15",
   "metadata": {},
   "outputs": [],
   "source": [
    "# Crie o extrator\n",
    "extractor_2 = VesselCenterlineExtractor(\n",
    "    vol_OP_2_gauss1,\n",
    "    sigma_range=(1, 4, 1),  \n",
    "    step_size=3.0,  \n",
    "    vessel_threshold=0.0000001,  \n",
    "    search_radius=5,\n",
    "    local_hessian_radius_factor=2.5\n",
    ")\n",
    "\n",
    "vessel_tree_OP_2 = extractor_2.extract_centerline(seed_point2, 500, 50)"
   ]
  },
  {
   "cell_type": "code",
   "execution_count": null,
   "id": "6e3e2e00-bf15-4284-9d7b-92ff1922637d",
   "metadata": {},
   "outputs": [],
   "source": [
    "# Crie o extrator\n",
    "extractor_3 = VesselCenterlineExtractor(\n",
    "    vol_OP_3_gauss1,\n",
    "    sigma_range=(1, 4, 1),  \n",
    "    step_size=3.0,  \n",
    "    vessel_threshold=0.0000001,  \n",
    "    search_radius=5,\n",
    "    local_hessian_radius_factor=2.5\n",
    ")\n",
    "\n",
    "vessel_tree_OP_3 = extractor_3.extract_centerline(seed_point3, 500, 50)"
   ]
  },
  {
   "cell_type": "code",
   "execution_count": null,
   "id": "80a054d4-0be5-48b8-bfd1-0842d449a9ec",
   "metadata": {},
   "outputs": [],
   "source": [
    "# Crie o extrator\n",
    "extractor_4 = VesselCenterlineExtractor(\n",
    "    vol_OP_4_gauss1,\n",
    "    sigma_range=(1, 4, 1),  \n",
    "    step_size=3.0,  \n",
    "    vessel_threshold=0.0000001,  \n",
    "    search_radius=5,\n",
    "    local_hessian_radius_factor=2.5\n",
    ")\n",
    "\n",
    "vessel_tree_OP_4 = extractor_4.extract_centerline(seed_point4, 500, 50)"
   ]
  },
  {
   "cell_type": "code",
   "execution_count": null,
   "id": "8f84b3de-af53-4cfd-88eb-28fb331265b7",
   "metadata": {},
   "outputs": [],
   "source": [
    "# Crie o extrator\n",
    "extractor_5 = VesselCenterlineExtractor(\n",
    "    vol_OP_5,\n",
    "    sigma_range=(1, 4, 1),  \n",
    "    step_size=3.0,  \n",
    "    vessel_threshold=0.0000001, \n",
    "    search_radius=5,\n",
    "    local_hessian_radius_factor=2.5\n",
    ")\n",
    "\n",
    "vessel_tree_OP_5 = extractor_5.extract_centerline(seed_point5, 500, 50)"
   ]
  },
  {
   "cell_type": "code",
   "execution_count": null,
   "id": "b34e36b3-ae1a-48c9-b688-b39835bab28e",
   "metadata": {},
   "outputs": [],
   "source": []
  },
  {
   "cell_type": "code",
   "execution_count": 7,
   "id": "4898b65d-17c3-4197-b58e-94439ebbc458",
   "metadata": {
    "execution": {
     "iopub.execute_input": "2025-06-10T21:38:38.819162Z",
     "iopub.status.busy": "2025-06-10T21:38:38.819051Z",
     "iopub.status.idle": "2025-06-10T21:38:39.292799Z",
     "shell.execute_reply": "2025-06-10T21:38:39.292381Z",
     "shell.execute_reply.started": "2025-06-10T21:38:38.819152Z"
    }
   },
   "outputs": [],
   "source": [
    "vol_OP_1_min = ndi.minimum_filter(vol_OP_1, 2)\n",
    "vol_OP_1_gauss = ndi.gaussian_filter(vol_OP_1_min, 2.0)"
   ]
  },
  {
   "cell_type": "code",
   "execution_count": 17,
   "id": "041b2376-5466-49a0-9b27-18a91922afe4",
   "metadata": {
    "execution": {
     "iopub.execute_input": "2025-06-10T22:02:05.933643Z",
     "iopub.status.busy": "2025-06-10T22:02:05.933482Z",
     "iopub.status.idle": "2025-06-10T22:02:06.609459Z",
     "shell.execute_reply": "2025-06-10T22:02:06.609123Z",
     "shell.execute_reply.started": "2025-06-10T22:02:05.933631Z"
    }
   },
   "outputs": [],
   "source": [
    "vol_OP_2_min = ndi.minimum_filter(vol_OP_2, 2)\n",
    "vol_OP_2_gauss = ndi.gaussian_filter(vol_OP_2_min, 2.0)"
   ]
  },
  {
   "cell_type": "code",
   "execution_count": null,
   "id": "21e922d1-7cfd-4f5c-abeb-8d51c2643c96",
   "metadata": {},
   "outputs": [],
   "source": [
    "vol_OP_3_min = ndi.minimum_filter(vol_OP_3, 2)\n",
    "vol_OP_3_gauss = ndi.gaussian_filter(vol_OP_3_min, 2.0)"
   ]
  },
  {
   "cell_type": "code",
   "execution_count": null,
   "id": "0b80fa35-1da8-4efc-b5c4-17b8ac6ea116",
   "metadata": {},
   "outputs": [],
   "source": [
    "vol_OP_4_min = ndi.minimum_filter(vol_OP_4, 2)\n",
    "vol_OP_4_gauss = ndi.gaussian_filter(vol_OP_4_min, 2.0)"
   ]
  },
  {
   "cell_type": "code",
   "execution_count": null,
   "id": "180e755c-826d-4025-be6b-f28c8bfdad1d",
   "metadata": {},
   "outputs": [],
   "source": [
    "vol_OP_5_min = ndi.minimum_filter(vol_OP_5, 2)\n",
    "vol_OP_5_gauss = ndi.gaussian_filter(vol_OP_5_min, 2.0)"
   ]
  },
  {
   "cell_type": "code",
   "execution_count": 9,
   "id": "82642175-8c0c-42d2-9329-7d6ef2936405",
   "metadata": {
    "execution": {
     "iopub.execute_input": "2025-06-10T21:42:24.184033Z",
     "iopub.status.busy": "2025-06-10T21:42:24.183722Z",
     "iopub.status.idle": "2025-06-10T21:42:24.188612Z",
     "shell.execute_reply": "2025-06-10T21:42:24.188257Z",
     "shell.execute_reply.started": "2025-06-10T21:42:24.184016Z"
    }
   },
   "outputs": [
    {
     "data": {
      "text/plain": [
       "array([1., 2., 3., 4.])"
      ]
     },
     "execution_count": 9,
     "metadata": {},
     "output_type": "execute_result"
    }
   ],
   "source": [
    "scale_space = np.arange(1.0, 4.5, 1.0)\n",
    "scale_space"
   ]
  },
  {
   "cell_type": "code",
   "execution_count": 10,
   "id": "e2e85ec5-c2d7-46ca-82c7-389b211865ba",
   "metadata": {
    "execution": {
     "iopub.execute_input": "2025-06-10T21:42:26.367671Z",
     "iopub.status.busy": "2025-06-10T21:42:26.367475Z",
     "iopub.status.idle": "2025-06-10T21:43:40.035359Z",
     "shell.execute_reply": "2025-06-10T21:43:40.035044Z",
     "shell.execute_reply.started": "2025-06-10T21:42:26.367660Z"
    }
   },
   "outputs": [],
   "source": [
    "vfc_result1 = scale_space_medialness_3d(vol_OP_1_gauss, 7, scale_space)"
   ]
  },
  {
   "cell_type": "code",
   "execution_count": 18,
   "id": "ff824f78-d54d-46b1-8214-5c9204f95f60",
   "metadata": {
    "execution": {
     "iopub.execute_input": "2025-06-10T22:02:13.621274Z",
     "iopub.status.busy": "2025-06-10T22:02:13.621115Z",
     "iopub.status.idle": "2025-06-10T22:04:06.026739Z",
     "shell.execute_reply": "2025-06-10T22:04:06.026398Z",
     "shell.execute_reply.started": "2025-06-10T22:02:13.621263Z"
    }
   },
   "outputs": [],
   "source": [
    "vfc_result2 = scale_space_medialness_3d(vol_OP_2_gauss, 7, scale_space)"
   ]
  },
  {
   "cell_type": "code",
   "execution_count": null,
   "id": "75d070fe-9b42-45c4-89d0-a488b54ec6df",
   "metadata": {},
   "outputs": [],
   "source": [
    "vfc_result3 = scale_space_medialness_3d(vol_OP_3_gauss, 7, scale_space)"
   ]
  },
  {
   "cell_type": "code",
   "execution_count": null,
   "id": "8a07db47-9f78-4d64-9c1c-787c9110bcf6",
   "metadata": {},
   "outputs": [],
   "source": [
    "vfc_result4 = scale_space_medialness_3d(vol_OP_4_gauss, 7, scale_space)"
   ]
  },
  {
   "cell_type": "code",
   "execution_count": null,
   "id": "05380ba6-4c3b-4edc-9dbe-59e7748c902b",
   "metadata": {},
   "outputs": [],
   "source": [
    "vfc_result5 = scale_space_medialness_3d(vol_OP_5_gauss, 7, scale_space)"
   ]
  },
  {
   "cell_type": "code",
   "execution_count": 11,
   "id": "d7eebad2-d4ef-4140-8161-719fe3f27226",
   "metadata": {
    "execution": {
     "iopub.execute_input": "2025-06-10T21:43:40.036056Z",
     "iopub.status.busy": "2025-06-10T21:43:40.035883Z",
     "iopub.status.idle": "2025-06-10T21:43:40.514872Z",
     "shell.execute_reply": "2025-06-10T21:43:40.514538Z",
     "shell.execute_reply.started": "2025-06-10T21:43:40.036030Z"
    }
   },
   "outputs": [],
   "source": [
    "coords1, _ = local_maxima_3D(vfc_result1, order=1)\n",
    "coords2, _ = local_maxima_3D(vfc_result2, order=1)\n",
    "# coords3, _ = local_maxima_3D(vfc_result3, order=1)\n",
    "# coords4, _ = local_maxima_3D(vfc_result4, order=1)\n",
    "# coords5, _ = local_maxima_3D(vfc_result5, order=1)"
   ]
  },
  {
   "cell_type": "code",
   "execution_count": 19,
   "id": "8dc6bd71-ca6e-4c6d-9c08-33fd317474f5",
   "metadata": {
    "execution": {
     "iopub.execute_input": "2025-06-10T22:04:43.983457Z",
     "iopub.status.busy": "2025-06-10T22:04:43.983250Z",
     "iopub.status.idle": "2025-06-10T22:06:14.716071Z",
     "shell.execute_reply": "2025-06-10T22:06:14.715611Z",
     "shell.execute_reply.started": "2025-06-10T22:04:43.983445Z"
    }
   },
   "outputs": [],
   "source": [
    "o3d_interactive_centerline(vessel_tree_OP_1, background_volume=vol_OP_1_gauss1)"
   ]
  },
  {
   "cell_type": "code",
   "execution_count": 16,
   "id": "81817d60-a54b-4af2-ba96-57cb9199713a",
   "metadata": {
    "execution": {
     "iopub.execute_input": "2025-06-10T22:01:32.477336Z",
     "iopub.status.busy": "2025-06-10T22:01:32.477145Z",
     "iopub.status.idle": "2025-06-10T22:01:59.304854Z",
     "shell.execute_reply": "2025-06-10T22:01:59.304463Z",
     "shell.execute_reply.started": "2025-06-10T22:01:32.477320Z"
    }
   },
   "outputs": [
    {
     "name": "stderr",
     "output_type": "stream",
     "text": [
      "INFO:root:Visualizando 1095 pontos de máxima.\n",
      "INFO:root:Gerando malha do volume de fundo...\n",
      "INFO:root:Malha do volume de fundo adicionada com limiar no percentil 75.\n",
      "INFO:root:\n",
      "Feche a janela do Open3D para continuar a execução do script.\n"
     ]
    }
   ],
   "source": [
    "o3d_interactive_maxima_points(\n",
    "    maxima_coords=coords1,\n",
    "    background_volume=vol_OP_1_gauss1,\n",
    "    point_size=5.0,\n",
    "    threshold_percentile=75   \n",
    ")"
   ]
  },
  {
   "cell_type": "code",
   "execution_count": null,
   "id": "9667c20a-7a77-41b7-b060-2c21fb88a20d",
   "metadata": {},
   "outputs": [],
   "source": [
    "o3d_interactive_maxima_points(\n",
    "    maxima_coords=coords2,\n",
    "    background_volume=vol_OP_1_gauss2,\n",
    "    point_size=5.0,\n",
    "    threshold_percentile=75   \n",
    ")"
   ]
  },
  {
   "cell_type": "code",
   "execution_count": null,
   "id": "6563e1ff-ae3b-4566-a4ba-ea8c99209d53",
   "metadata": {},
   "outputs": [],
   "source": [
    "o3d_interactive_maxima_points(\n",
    "    maxima_coords=coords3,\n",
    "    background_volume=vol_OP_1_gauss3,\n",
    "    point_size=5.0,\n",
    "    threshold_percentile=75   \n",
    ")"
   ]
  },
  {
   "cell_type": "code",
   "execution_count": null,
   "id": "9315ea7c-fe49-453e-a457-fde706dd7ba8",
   "metadata": {},
   "outputs": [],
   "source": [
    "o3d_interactive_maxima_points(\n",
    "    maxima_coords=coords4,\n",
    "    background_volume=vol_OP_1_gauss4,\n",
    "    point_size=5.0,\n",
    "    threshold_percentile=75   \n",
    ")"
   ]
  },
  {
   "cell_type": "code",
   "execution_count": null,
   "id": "c053ae74-6d10-4fa4-b7b6-db99423712b9",
   "metadata": {},
   "outputs": [],
   "source": [
    "o3d_interactive_maxima_points(\n",
    "    maxima_coords=coords5,\n",
    "    background_volume=vol_OP_1_gauss5,\n",
    "    point_size=5.0,\n",
    "    threshold_percentile=75   \n",
    ")"
   ]
  },
  {
   "cell_type": "code",
   "execution_count": null,
   "id": "27dd49e2-3070-4d24-828f-f3d5fe971317",
   "metadata": {},
   "outputs": [],
   "source": [
    "o3d_interactive_centerline(vessel_tree_OP_2, background_volume=vol_OP_2_gauss1)"
   ]
  },
  {
   "cell_type": "code",
   "execution_count": null,
   "id": "7c14115f-620c-4d56-aa60-6421146b9da7",
   "metadata": {},
   "outputs": [],
   "source": [
    "o3d_interactive_centerline(vessel_tree_OP_3, background_volume=vol_OP_3_gauss1)"
   ]
  },
  {
   "cell_type": "code",
   "execution_count": null,
   "id": "65e30ea3-9730-45e4-824c-2c4b83b2a3eb",
   "metadata": {},
   "outputs": [],
   "source": [
    "o3d_interactive_centerline(vessel_tree_OP_4, background_volume=vol_OP_4_gauss1)"
   ]
  },
  {
   "cell_type": "code",
   "execution_count": null,
   "id": "131d8ba7-cfc1-4aca-ab41-b519d5449086",
   "metadata": {},
   "outputs": [],
   "source": [
    "o3d_interactive_centerline(vessel_tree_OP_5, background_volume=vol_OP_5_gauss1)"
   ]
  }
 ],
 "metadata": {
  "kernelspec": {
   "display_name": "Python 3 (ipykernel)",
   "language": "python",
   "name": "python3"
  },
  "language_info": {
   "codemirror_mode": {
    "name": "ipython",
    "version": 3
   },
   "file_extension": ".py",
   "mimetype": "text/x-python",
   "name": "python",
   "nbconvert_exporter": "python",
   "pygments_lexer": "ipython3",
   "version": "3.12.11"
  }
 },
 "nbformat": 4,
 "nbformat_minor": 5
}
