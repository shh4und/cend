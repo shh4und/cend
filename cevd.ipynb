{
 "cells": [
  {
   "cell_type": "code",
   "execution_count": 1,
   "id": "6ac11499-ca67-4582-8aa9-a815a6134ee8",
   "metadata": {
    "editable": true,
    "execution": {
     "iopub.execute_input": "2025-05-26T02:34:56.365729Z",
     "iopub.status.busy": "2025-05-26T02:34:56.365545Z",
     "iopub.status.idle": "2025-05-26T02:34:56.999212Z",
     "shell.execute_reply": "2025-05-26T02:34:56.998737Z",
     "shell.execute_reply.started": "2025-05-26T02:34:56.365717Z"
    },
    "slideshow": {
     "slide_type": ""
    },
    "tags": []
   },
   "outputs": [],
   "source": [
    "import sys\n",
    "\n",
    "sys.path.append(\"/home/dnxx/RMNIM/\")\n",
    "from ip import *"
   ]
  },
  {
   "cell_type": "code",
   "execution_count": 2,
   "id": "8288dc19-892b-45e4-aa73-cbdf35e831f0",
   "metadata": {
    "execution": {
     "iopub.execute_input": "2025-05-26T02:34:56.999762Z",
     "iopub.status.busy": "2025-05-26T02:34:56.999590Z",
     "iopub.status.idle": "2025-05-26T02:34:57.010022Z",
     "shell.execute_reply": "2025-05-26T02:34:57.009684Z",
     "shell.execute_reply.started": "2025-05-26T02:34:56.999750Z"
    }
   },
   "outputs": [],
   "source": [
    "import cv2\n",
    "import numpy as np\n",
    "from scipy import ndimage as ndi\n",
    "from skimage.util import img_as_ubyte, img_as_float\n",
    "from skimage.morphology import skeletonize\n",
    "from skimage import filters"
   ]
  },
  {
   "cell_type": "code",
   "execution_count": 3,
   "id": "9fce883f-a042-4856-97a7-196665262d09",
   "metadata": {
    "execution": {
     "iopub.execute_input": "2025-05-26T02:34:57.010563Z",
     "iopub.status.busy": "2025-05-26T02:34:57.010377Z",
     "iopub.status.idle": "2025-05-26T02:34:57.461145Z",
     "shell.execute_reply": "2025-05-26T02:34:57.460766Z",
     "shell.execute_reply.started": "2025-05-26T02:34:57.010551Z"
    }
   },
   "outputs": [],
   "source": [
    "from msld import *\n",
    "from contrast import *\n",
    "from util import *\n",
    "from cevd import *\n",
    "from visualize import *\n",
    "from interpolation import *"
   ]
  },
  {
   "cell_type": "markdown",
   "id": "fc1f470f-94d6-480d-8b03-ab6bd31c1e58",
   "metadata": {},
   "source": [
    "OP_1 (X,Y,Z): (30.979,429.04,0)\n",
    "\n",
    "OP_2 (X,Y,Z): (0.72501,391.08,25)\n",
    "\n",
    "OP_3 (X,Y,Z): (93.742,179,38)\n",
    "\n",
    "OP_4 (X,Y,Z): (128.2,504.37,0.3)\n",
    "\n",
    "OP_5 (X,Y,Z): (185.7,264.02,33)\n",
    "\n",
    "OP_6 (X,Y,Z): (15.074,412.01,10)\n",
    "\n",
    "OP_7 (X,Y,Z): (119.76,215.98,39)\n",
    "\n",
    "OP_8 (X,Y,Z): (118.64,181.34,55)\n",
    "\n",
    "OP_9 (X,Y,Z): (64.56,364.47,4)\n",
    "\n"
   ]
  },
  {
   "cell_type": "code",
   "execution_count": 4,
   "id": "d1ef9558-e615-4448-ab40-9d7d3a525164",
   "metadata": {
    "execution": {
     "iopub.execute_input": "2025-05-26T02:34:57.461707Z",
     "iopub.status.busy": "2025-05-26T02:34:57.461498Z",
     "iopub.status.idle": "2025-05-26T02:34:57.487142Z",
     "shell.execute_reply": "2025-05-26T02:34:57.486761Z",
     "shell.execute_reply.started": "2025-05-26T02:34:57.461696Z"
    }
   },
   "outputs": [],
   "source": [
    "vol3d = load_tif_stack(\"./OP_1/\")"
   ]
  },
  {
   "cell_type": "code",
   "execution_count": 5,
   "id": "8854568c-1af5-43bc-9744-bd1a9d0dcd31",
   "metadata": {
    "execution": {
     "iopub.execute_input": "2025-05-26T02:34:57.487685Z",
     "iopub.status.busy": "2025-05-26T02:34:57.487504Z",
     "iopub.status.idle": "2025-05-26T02:34:57.492718Z",
     "shell.execute_reply": "2025-05-26T02:34:57.492422Z",
     "shell.execute_reply.started": "2025-05-26T02:34:57.487673Z"
    }
   },
   "outputs": [
    {
     "data": {
      "text/plain": [
       "((60, 512, 512), dtype('uint8'))"
      ]
     },
     "execution_count": 5,
     "metadata": {},
     "output_type": "execute_result"
    }
   ],
   "source": [
    "vol3d.shape, vol3d.dtype"
   ]
  },
  {
   "cell_type": "code",
   "execution_count": 6,
   "id": "4255468c-2361-46f0-a67b-c4f88fc0c00b",
   "metadata": {
    "execution": {
     "iopub.execute_input": "2025-05-26T02:34:57.493705Z",
     "iopub.status.busy": "2025-05-26T02:34:57.493535Z",
     "iopub.status.idle": "2025-05-26T02:34:57.503613Z",
     "shell.execute_reply": "2025-05-26T02:34:57.503321Z",
     "shell.execute_reply.started": "2025-05-26T02:34:57.493695Z"
    }
   },
   "outputs": [],
   "source": [
    "# vol3d_interpolated = interpolate_volume(vol3d, z_pixel_spacing=3.03)"
   ]
  },
  {
   "cell_type": "code",
   "execution_count": 7,
   "id": "f03d573b-8760-4cad-9c49-ded34377bd11",
   "metadata": {
    "execution": {
     "iopub.execute_input": "2025-05-26T02:34:57.504020Z",
     "iopub.status.busy": "2025-05-26T02:34:57.503911Z",
     "iopub.status.idle": "2025-05-26T02:34:57.515815Z",
     "shell.execute_reply": "2025-05-26T02:34:57.515259Z",
     "shell.execute_reply.started": "2025-05-26T02:34:57.504009Z"
    }
   },
   "outputs": [],
   "source": [
    "#vol3d_interpolated = load_tif_stack(\"./OP_1_interp/\")"
   ]
  },
  {
   "cell_type": "code",
   "execution_count": 8,
   "id": "73f47286-4ec7-4225-b05b-c7a1677f3e27",
   "metadata": {
    "execution": {
     "iopub.execute_input": "2025-05-26T02:34:57.516330Z",
     "iopub.status.busy": "2025-05-26T02:34:57.516207Z",
     "iopub.status.idle": "2025-05-26T02:34:57.527426Z",
     "shell.execute_reply": "2025-05-26T02:34:57.527089Z",
     "shell.execute_reply.started": "2025-05-26T02:34:57.516320Z"
    }
   },
   "outputs": [],
   "source": [
    "#vol3d_interpolated.shape, vol3d_interpolated.dtype"
   ]
  },
  {
   "cell_type": "code",
   "execution_count": 9,
   "id": "770f5fe6-fddc-456e-80b1-7621f2353cb1",
   "metadata": {
    "execution": {
     "iopub.execute_input": "2025-05-26T02:34:57.527897Z",
     "iopub.status.busy": "2025-05-26T02:34:57.527780Z",
     "iopub.status.idle": "2025-05-26T02:34:57.545798Z",
     "shell.execute_reply": "2025-05-26T02:34:57.545451Z",
     "shell.execute_reply.started": "2025-05-26T02:34:57.527887Z"
    }
   },
   "outputs": [],
   "source": [
    "#download(vol3d_interpolated, path=\"./OP_1_interp/\")"
   ]
  },
  {
   "cell_type": "code",
   "execution_count": 10,
   "id": "dbf6a6d9-8c67-4b3b-9b2f-c3733795a59c",
   "metadata": {
    "execution": {
     "iopub.execute_input": "2025-05-26T02:34:57.546244Z",
     "iopub.status.busy": "2025-05-26T02:34:57.546133Z",
     "iopub.status.idle": "2025-05-26T02:34:57.845720Z",
     "shell.execute_reply": "2025-05-26T02:34:57.845322Z",
     "shell.execute_reply.started": "2025-05-26T02:34:57.546234Z"
    }
   },
   "outputs": [],
   "source": [
    "vol3d_gauss1 = ndi.gaussian_filter(vol3d, 2.0)"
   ]
  },
  {
   "cell_type": "code",
   "execution_count": 11,
   "id": "110ec2c0-14cb-470f-990a-9ae4126aeb70",
   "metadata": {
    "execution": {
     "iopub.execute_input": "2025-05-26T02:34:57.846202Z",
     "iopub.status.busy": "2025-05-26T02:34:57.846086Z",
     "iopub.status.idle": "2025-05-26T02:34:57.848866Z",
     "shell.execute_reply": "2025-05-26T02:34:57.848539Z",
     "shell.execute_reply.started": "2025-05-26T02:34:57.846191Z"
    }
   },
   "outputs": [
    {
     "data": {
      "text/plain": [
       "dtype('uint8')"
      ]
     },
     "execution_count": 11,
     "metadata": {},
     "output_type": "execute_result"
    }
   ],
   "source": [
    "vol3d_gauss1.dtype"
   ]
  },
  {
   "cell_type": "code",
   "execution_count": 12,
   "id": "e6c7f35f-fc7c-4d35-a95f-f648c4be42ed",
   "metadata": {
    "execution": {
     "iopub.execute_input": "2025-05-26T02:34:57.849350Z",
     "iopub.status.busy": "2025-05-26T02:34:57.849237Z",
     "iopub.status.idle": "2025-05-26T02:34:57.865156Z",
     "shell.execute_reply": "2025-05-26T02:34:57.864811Z",
     "shell.execute_reply.started": "2025-05-26T02:34:57.849340Z"
    }
   },
   "outputs": [],
   "source": [
    "#slide_imshow(vol3d_gauss1)"
   ]
  },
  {
   "cell_type": "code",
   "execution_count": 13,
   "id": "78520771-17dc-42da-b34d-ad2fe86da0fb",
   "metadata": {
    "execution": {
     "iopub.execute_input": "2025-05-26T02:34:57.865782Z",
     "iopub.status.busy": "2025-05-26T02:34:57.865578Z",
     "iopub.status.idle": "2025-05-26T02:41:41.963408Z",
     "shell.execute_reply": "2025-05-26T02:41:41.963016Z",
     "shell.execute_reply.started": "2025-05-26T02:34:57.865770Z"
    }
   },
   "outputs": [
    {
     "name": "stderr",
     "output_type": "stream",
     "text": [
      "INFO:VesselCenterlineExtractor:Iniciando extração da linha central a partir da semente: (0, 429, 31)\n",
      "INFO:VesselCenterlineExtractor:Primeiro ponto da linha central C0: (np.int64(0), np.int64(429), np.int64(31))\n",
      "INFO:VesselCenterlineExtractor:No passo: 10, próximo_C: (np.int64(7), np.int64(407), np.int64(31)), cache_size: 2048\n",
      "INFO:VesselCenterlineExtractor:No passo: 20, próximo_C: (np.int64(11), np.int64(387), np.int64(35)), cache_size: 4072\n",
      "INFO:VesselCenterlineExtractor:No passo: 30, próximo_C: (np.int64(18), np.int64(369), np.int64(41)), cache_size: 6032\n",
      "INFO:VesselCenterlineExtractor:No passo: 40, próximo_C: (np.int64(21), np.int64(349), np.int64(41)), cache_size: 8066\n",
      "INFO:VesselCenterlineExtractor:No passo: 50, próximo_C: (np.int64(26), np.int64(329), np.int64(41)), cache_size: 10094\n",
      "INFO:VesselCenterlineExtractor:No passo: 60, próximo_C: (np.int64(30), np.int64(309), np.int64(40)), cache_size: 12290\n",
      "INFO:VesselCenterlineExtractor:No passo: 70, próximo_C: (np.int64(32), np.int64(289), np.int64(48)), cache_size: 14404\n",
      "INFO:VesselCenterlineExtractor:No passo: 80, próximo_C: (np.int64(34), np.int64(279), np.int64(66)), cache_size: 16490\n",
      "INFO:VesselCenterlineExtractor:No passo: 90, próximo_C: (np.int64(37), np.int64(265), np.int64(79)), cache_size: 18603\n",
      "INFO:VesselCenterlineExtractor:No passo: 100, próximo_C: (np.int64(40), np.int64(255), np.int64(93)), cache_size: 20675\n",
      "INFO:VesselCenterlineExtractor:No passo: 110, próximo_C: (np.int64(41), np.int64(248), np.int64(113)), cache_size: 22823\n",
      "INFO:VesselCenterlineExtractor:No passo: 120, próximo_C: (np.int64(39), np.int64(247), np.int64(133)), cache_size: 24964\n",
      "INFO:VesselCenterlineExtractor:No passo: 130, próximo_C: (np.int64(39), np.int64(246), np.int64(153)), cache_size: 27053\n",
      "INFO:VesselCenterlineExtractor:No passo: 140, próximo_C: (np.int64(39), np.int64(248), np.int64(173)), cache_size: 29101\n",
      "INFO:VesselCenterlineExtractor:No passo: 150, próximo_C: (np.int64(39), np.int64(245), np.int64(193)), cache_size: 31206\n",
      "INFO:VesselCenterlineExtractor:No passo: 160, próximo_C: (np.int64(40), np.int64(243), np.int64(213)), cache_size: 33325\n",
      "INFO:VesselCenterlineExtractor:No passo: 170, próximo_C: (np.int64(40), np.int64(240), np.int64(233)), cache_size: 35456\n",
      "INFO:VesselCenterlineExtractor:No passo: 180, próximo_C: (np.int64(39), np.int64(237), np.int64(253)), cache_size: 37597\n",
      "INFO:VesselCenterlineExtractor:No passo: 190, próximo_C: (np.int64(38), np.int64(232), np.int64(273)), cache_size: 39800\n",
      "INFO:VesselCenterlineExtractor:No passo: 200, próximo_C: (np.int64(37), np.int64(228), np.int64(293)), cache_size: 42008\n",
      "INFO:VesselCenterlineExtractor:No passo: 210, próximo_C: (np.int64(36), np.int64(221), np.int64(313)), cache_size: 44080\n",
      "INFO:VesselCenterlineExtractor:No passo: 220, próximo_C: (np.int64(35), np.int64(212), np.int64(333)), cache_size: 46057\n",
      "INFO:VesselCenterlineExtractor:No passo: 230, próximo_C: (np.int64(34), np.int64(205), np.int64(353)), cache_size: 48171\n",
      "INFO:VesselCenterlineExtractor:No passo: 240, próximo_C: (np.int64(34), np.int64(193), np.int64(367)), cache_size: 50130\n",
      "INFO:VesselCenterlineExtractor:No passo: 250, próximo_C: (np.int64(25), np.int64(183), np.int64(357)), cache_size: 52038\n",
      "INFO:VesselCenterlineExtractor:No passo: 260, próximo_C: (np.int64(20), np.int64(200), np.int64(341)), cache_size: 54066\n",
      "INFO:VesselCenterlineExtractor:No passo: 270, próximo_C: (np.int64(19), np.int64(216), np.int64(350)), cache_size: 55908\n",
      "INFO:VesselCenterlineExtractor:Próximo ponto Pk+1=(np.int64(22), np.int64(218), np.int64(360)) resposta 0.0000057 está abaixo do limiar. Terminando.\n",
      "INFO:VesselCenterlineExtractor:Extração da linha central finalizada. Encontrados 276 pontos em 404.0607285 segundos. Tamanho final do cache de autovalores: 56672\n"
     ]
    }
   ],
   "source": [
    "# Defina um ponto-semente dentro do vaso de interesse\n",
    "seed_point1 = (0, 429, 31)  # Ajuste conforme seus dados\n",
    "seed_point2 = (25, 391, 1)\n",
    "seed_point3 = (38, 179, 94)\n",
    "seed_point5 = (33, 264, 186)\n",
    "# Crie o extrator\n",
    "extractor = VesselCenterlineExtractor(\n",
    "    vol3d_gauss1,\n",
    "    sigma_range=(1, 5, 1),  # Intervalos menores entre escalas\n",
    "    step_size=2.0,  # Passos menores\n",
    "    vessel_threshold=0.00001,  # Limiar muito mais baixo\n",
    "    search_radius=7,\n",
    "    local_hessian_radius_factor=4\n",
    ")\n",
    "\n",
    "# Extraia a centerline\n",
    "# When extracting, limit the search\n",
    "vessel_tree = extractor.extract_centerline(seed_point1,)"
   ]
  },
  {
   "cell_type": "code",
   "execution_count": 14,
   "id": "151ac4db-4f80-4eab-b847-a18558c6bb74",
   "metadata": {
    "execution": {
     "iopub.execute_input": "2025-05-26T02:41:41.963829Z",
     "iopub.status.busy": "2025-05-26T02:41:41.963699Z",
     "iopub.status.idle": "2025-05-26T02:41:41.966618Z",
     "shell.execute_reply": "2025-05-26T02:41:41.966216Z",
     "shell.execute_reply.started": "2025-05-26T02:41:41.963816Z"
    }
   },
   "outputs": [
    {
     "data": {
      "text/plain": [
       "276"
      ]
     },
     "execution_count": 14,
     "metadata": {},
     "output_type": "execute_result"
    }
   ],
   "source": [
    "len(vessel_tree)"
   ]
  },
  {
   "cell_type": "code",
   "execution_count": 15,
   "id": "6f57a25d-6b8c-43b7-b00a-bc7ce9bcc551",
   "metadata": {
    "execution": {
     "iopub.execute_input": "2025-05-26T02:41:41.967172Z",
     "iopub.status.busy": "2025-05-26T02:41:41.967044Z",
     "iopub.status.idle": "2025-05-26T02:41:41.984539Z",
     "shell.execute_reply": "2025-05-26T02:41:41.984206Z",
     "shell.execute_reply.started": "2025-05-26T02:41:41.967160Z"
    }
   },
   "outputs": [
    {
     "data": {
      "text/plain": [
       "[(np.int64(0), np.int64(429), np.int64(31)),\n",
       " (np.int64(2), np.int64(427), np.int64(31)),\n",
       " (np.int64(3), np.int64(425), np.int64(29)),\n",
       " (np.int64(3), np.int64(423), np.int64(29)),\n",
       " (np.int64(4), np.int64(421), np.int64(29)),\n",
       " (np.int64(4), np.int64(419), np.int64(29)),\n",
       " (np.int64(5), np.int64(417), np.int64(29)),\n",
       " (np.int64(5), np.int64(415), np.int64(29)),\n",
       " (np.int64(6), np.int64(413), np.int64(30)),\n",
       " (np.int64(7), np.int64(411), np.int64(30)),\n",
       " (np.int64(7), np.int64(409), np.int64(30)),\n",
       " (np.int64(7), np.int64(407), np.int64(31)),\n",
       " (np.int64(8), np.int64(405), np.int64(31)),\n",
       " (np.int64(8), np.int64(403), np.int64(31)),\n",
       " (np.int64(8), np.int64(401), np.int64(31)),\n",
       " (np.int64(9), np.int64(399), np.int64(31)),\n",
       " (np.int64(9), np.int64(397), np.int64(31)),\n",
       " (np.int64(9), np.int64(395), np.int64(31)),\n",
       " (np.int64(10), np.int64(393), np.int64(31)),\n",
       " (np.int64(10), np.int64(391), np.int64(32)),\n",
       " (np.int64(11), np.int64(389), np.int64(33)),\n",
       " (np.int64(11), np.int64(387), np.int64(35)),\n",
       " (np.int64(12), np.int64(386), np.int64(37)),\n",
       " (np.int64(13), np.int64(384), np.int64(38)),\n",
       " (np.int64(14), np.int64(383), np.int64(39)),\n",
       " (np.int64(15), np.int64(381), np.int64(40)),\n",
       " (np.int64(15), np.int64(379), np.int64(40)),\n",
       " (np.int64(16), np.int64(377), np.int64(40)),\n",
       " (np.int64(17), np.int64(375), np.int64(40)),\n",
       " (np.int64(17), np.int64(373), np.int64(40)),\n",
       " (np.int64(17), np.int64(371), np.int64(40)),\n",
       " (np.int64(18), np.int64(369), np.int64(41)),\n",
       " (np.int64(18), np.int64(367), np.int64(41)),\n",
       " (np.int64(19), np.int64(365), np.int64(42)),\n",
       " (np.int64(19), np.int64(363), np.int64(42)),\n",
       " (np.int64(19), np.int64(361), np.int64(42)),\n",
       " (np.int64(20), np.int64(359), np.int64(42)),\n",
       " (np.int64(20), np.int64(357), np.int64(42)),\n",
       " (np.int64(20), np.int64(355), np.int64(42)),\n",
       " (np.int64(21), np.int64(353), np.int64(42)),\n",
       " (np.int64(21), np.int64(351), np.int64(41)),\n",
       " (np.int64(21), np.int64(349), np.int64(41)),\n",
       " (np.int64(22), np.int64(347), np.int64(40)),\n",
       " (np.int64(23), np.int64(345), np.int64(40)),\n",
       " (np.int64(23), np.int64(343), np.int64(39)),\n",
       " (np.int64(23), np.int64(341), np.int64(39)),\n",
       " (np.int64(24), np.int64(339), np.int64(39)),\n",
       " (np.int64(24), np.int64(337), np.int64(39)),\n",
       " (np.int64(25), np.int64(335), np.int64(40)),\n",
       " (np.int64(25), np.int64(333), np.int64(40)),\n",
       " (np.int64(26), np.int64(331), np.int64(41)),\n",
       " (np.int64(26), np.int64(329), np.int64(41)),\n",
       " (np.int64(26), np.int64(327), np.int64(41)),\n",
       " (np.int64(27), np.int64(325), np.int64(41)),\n",
       " (np.int64(27), np.int64(323), np.int64(41)),\n",
       " (np.int64(28), np.int64(321), np.int64(40)),\n",
       " (np.int64(28), np.int64(319), np.int64(40)),\n",
       " (np.int64(28), np.int64(317), np.int64(40)),\n",
       " (np.int64(29), np.int64(315), np.int64(40)),\n",
       " (np.int64(29), np.int64(313), np.int64(40)),\n",
       " (np.int64(29), np.int64(311), np.int64(40)),\n",
       " (np.int64(30), np.int64(309), np.int64(40)),\n",
       " (np.int64(30), np.int64(307), np.int64(41)),\n",
       " (np.int64(30), np.int64(305), np.int64(41)),\n",
       " (np.int64(31), np.int64(303), np.int64(42)),\n",
       " (np.int64(31), np.int64(301), np.int64(42)),\n",
       " (np.int64(31), np.int64(299), np.int64(43)),\n",
       " (np.int64(31), np.int64(297), np.int64(44)),\n",
       " (np.int64(32), np.int64(295), np.int64(45)),\n",
       " (np.int64(32), np.int64(293), np.int64(46)),\n",
       " (np.int64(32), np.int64(291), np.int64(47)),\n",
       " (np.int64(32), np.int64(289), np.int64(48)),\n",
       " (np.int64(32), np.int64(288), np.int64(49)),\n",
       " (np.int64(33), np.int64(288), np.int64(50)),\n",
       " (np.int64(33), np.int64(286), np.int64(52)),\n",
       " (np.int64(33), np.int64(285), np.int64(54)),\n",
       " (np.int64(33), np.int64(284), np.int64(56)),\n",
       " (np.int64(33), np.int64(283), np.int64(58)),\n",
       " (np.int64(34), np.int64(282), np.int64(60)),\n",
       " (np.int64(34), np.int64(281), np.int64(62)),\n",
       " (np.int64(34), np.int64(280), np.int64(64)),\n",
       " (np.int64(34), np.int64(279), np.int64(66)),\n",
       " (np.int64(35), np.int64(278), np.int64(68)),\n",
       " (np.int64(35), np.int64(276), np.int64(69)),\n",
       " (np.int64(35), np.int64(275), np.int64(70)),\n",
       " (np.int64(35), np.int64(274), np.int64(72)),\n",
       " (np.int64(36), np.int64(272), np.int64(73)),\n",
       " (np.int64(36), np.int64(270), np.int64(74)),\n",
       " (np.int64(36), np.int64(268), np.int64(75)),\n",
       " (np.int64(37), np.int64(268), np.int64(76)),\n",
       " (np.int64(37), np.int64(267), np.int64(78)),\n",
       " (np.int64(37), np.int64(265), np.int64(79)),\n",
       " (np.int64(38), np.int64(264), np.int64(81)),\n",
       " (np.int64(38), np.int64(263), np.int64(82)),\n",
       " (np.int64(38), np.int64(262), np.int64(83)),\n",
       " (np.int64(39), np.int64(261), np.int64(84)),\n",
       " (np.int64(39), np.int64(260), np.int64(85)),\n",
       " (np.int64(39), np.int64(259), np.int64(86)),\n",
       " (np.int64(39), np.int64(258), np.int64(87)),\n",
       " (np.int64(39), np.int64(257), np.int64(89)),\n",
       " (np.int64(39), np.int64(256), np.int64(91)),\n",
       " (np.int64(40), np.int64(255), np.int64(93)),\n",
       " (np.int64(40), np.int64(254), np.int64(95)),\n",
       " (np.int64(40), np.int64(254), np.int64(97)),\n",
       " (np.int64(40), np.int64(253), np.int64(99)),\n",
       " (np.int64(40), np.int64(252), np.int64(101)),\n",
       " (np.int64(41), np.int64(252), np.int64(103)),\n",
       " (np.int64(41), np.int64(251), np.int64(105)),\n",
       " (np.int64(41), np.int64(250), np.int64(107)),\n",
       " (np.int64(41), np.int64(250), np.int64(109)),\n",
       " (np.int64(41), np.int64(249), np.int64(111)),\n",
       " (np.int64(41), np.int64(248), np.int64(113)),\n",
       " (np.int64(41), np.int64(247), np.int64(115)),\n",
       " (np.int64(41), np.int64(247), np.int64(117)),\n",
       " (np.int64(40), np.int64(246), np.int64(119)),\n",
       " (np.int64(40), np.int64(246), np.int64(121)),\n",
       " (np.int64(40), np.int64(246), np.int64(123)),\n",
       " (np.int64(39), np.int64(246), np.int64(125)),\n",
       " (np.int64(39), np.int64(246), np.int64(127)),\n",
       " (np.int64(39), np.int64(246), np.int64(129)),\n",
       " (np.int64(39), np.int64(246), np.int64(131)),\n",
       " (np.int64(39), np.int64(247), np.int64(133)),\n",
       " (np.int64(39), np.int64(247), np.int64(135)),\n",
       " (np.int64(39), np.int64(248), np.int64(137)),\n",
       " (np.int64(39), np.int64(248), np.int64(139)),\n",
       " (np.int64(39), np.int64(248), np.int64(141)),\n",
       " (np.int64(39), np.int64(248), np.int64(143)),\n",
       " (np.int64(39), np.int64(247), np.int64(145)),\n",
       " (np.int64(39), np.int64(247), np.int64(147)),\n",
       " (np.int64(39), np.int64(247), np.int64(149)),\n",
       " (np.int64(39), np.int64(246), np.int64(151)),\n",
       " (np.int64(39), np.int64(246), np.int64(153)),\n",
       " (np.int64(39), np.int64(246), np.int64(155)),\n",
       " (np.int64(39), np.int64(246), np.int64(157)),\n",
       " (np.int64(39), np.int64(246), np.int64(159)),\n",
       " (np.int64(39), np.int64(247), np.int64(161)),\n",
       " (np.int64(39), np.int64(247), np.int64(163)),\n",
       " (np.int64(39), np.int64(247), np.int64(165)),\n",
       " (np.int64(39), np.int64(248), np.int64(167)),\n",
       " (np.int64(39), np.int64(248), np.int64(169)),\n",
       " (np.int64(39), np.int64(248), np.int64(171)),\n",
       " (np.int64(39), np.int64(248), np.int64(173)),\n",
       " (np.int64(39), np.int64(249), np.int64(175)),\n",
       " (np.int64(39), np.int64(249), np.int64(177)),\n",
       " (np.int64(39), np.int64(249), np.int64(179)),\n",
       " (np.int64(39), np.int64(249), np.int64(181)),\n",
       " (np.int64(39), np.int64(248), np.int64(183)),\n",
       " (np.int64(39), np.int64(248), np.int64(185)),\n",
       " (np.int64(39), np.int64(247), np.int64(187)),\n",
       " (np.int64(39), np.int64(246), np.int64(189)),\n",
       " (np.int64(39), np.int64(246), np.int64(191)),\n",
       " (np.int64(39), np.int64(245), np.int64(193)),\n",
       " (np.int64(39), np.int64(245), np.int64(195)),\n",
       " (np.int64(39), np.int64(244), np.int64(197)),\n",
       " (np.int64(39), np.int64(244), np.int64(199)),\n",
       " (np.int64(40), np.int64(244), np.int64(201)),\n",
       " (np.int64(40), np.int64(244), np.int64(203)),\n",
       " (np.int64(40), np.int64(243), np.int64(205)),\n",
       " (np.int64(40), np.int64(243), np.int64(207)),\n",
       " (np.int64(40), np.int64(243), np.int64(209)),\n",
       " (np.int64(39), np.int64(243), np.int64(211)),\n",
       " (np.int64(40), np.int64(243), np.int64(213)),\n",
       " (np.int64(40), np.int64(242), np.int64(215)),\n",
       " (np.int64(40), np.int64(242), np.int64(217)),\n",
       " (np.int64(40), np.int64(241), np.int64(219)),\n",
       " (np.int64(40), np.int64(241), np.int64(221)),\n",
       " (np.int64(40), np.int64(241), np.int64(223)),\n",
       " (np.int64(40), np.int64(240), np.int64(225)),\n",
       " (np.int64(40), np.int64(240), np.int64(227)),\n",
       " (np.int64(40), np.int64(240), np.int64(229)),\n",
       " (np.int64(40), np.int64(240), np.int64(231)),\n",
       " (np.int64(40), np.int64(240), np.int64(233)),\n",
       " (np.int64(40), np.int64(239), np.int64(235)),\n",
       " (np.int64(40), np.int64(239), np.int64(237)),\n",
       " (np.int64(40), np.int64(238), np.int64(239)),\n",
       " (np.int64(40), np.int64(237), np.int64(241)),\n",
       " (np.int64(40), np.int64(237), np.int64(243)),\n",
       " (np.int64(40), np.int64(237), np.int64(245)),\n",
       " (np.int64(40), np.int64(237), np.int64(247)),\n",
       " (np.int64(40), np.int64(237), np.int64(249)),\n",
       " (np.int64(39), np.int64(237), np.int64(251)),\n",
       " (np.int64(39), np.int64(237), np.int64(253)),\n",
       " (np.int64(39), np.int64(236), np.int64(255)),\n",
       " (np.int64(39), np.int64(236), np.int64(257)),\n",
       " (np.int64(39), np.int64(235), np.int64(259)),\n",
       " (np.int64(38), np.int64(235), np.int64(261)),\n",
       " (np.int64(38), np.int64(235), np.int64(263)),\n",
       " (np.int64(38), np.int64(234), np.int64(265)),\n",
       " (np.int64(38), np.int64(234), np.int64(267)),\n",
       " (np.int64(38), np.int64(233), np.int64(269)),\n",
       " (np.int64(38), np.int64(233), np.int64(271)),\n",
       " (np.int64(38), np.int64(232), np.int64(273)),\n",
       " (np.int64(38), np.int64(232), np.int64(275)),\n",
       " (np.int64(38), np.int64(232), np.int64(277)),\n",
       " (np.int64(38), np.int64(231), np.int64(279)),\n",
       " (np.int64(38), np.int64(231), np.int64(281)),\n",
       " (np.int64(38), np.int64(230), np.int64(283)),\n",
       " (np.int64(38), np.int64(229), np.int64(285)),\n",
       " (np.int64(37), np.int64(229), np.int64(287)),\n",
       " (np.int64(37), np.int64(229), np.int64(289)),\n",
       " (np.int64(37), np.int64(229), np.int64(291)),\n",
       " (np.int64(37), np.int64(228), np.int64(293)),\n",
       " (np.int64(37), np.int64(228), np.int64(295)),\n",
       " (np.int64(37), np.int64(227), np.int64(297)),\n",
       " (np.int64(37), np.int64(226), np.int64(299)),\n",
       " (np.int64(37), np.int64(226), np.int64(301)),\n",
       " (np.int64(36), np.int64(225), np.int64(303)),\n",
       " (np.int64(36), np.int64(224), np.int64(305)),\n",
       " (np.int64(36), np.int64(223), np.int64(307)),\n",
       " (np.int64(36), np.int64(222), np.int64(309)),\n",
       " (np.int64(36), np.int64(222), np.int64(311)),\n",
       " (np.int64(36), np.int64(221), np.int64(313)),\n",
       " (np.int64(36), np.int64(221), np.int64(315)),\n",
       " (np.int64(36), np.int64(220), np.int64(317)),\n",
       " (np.int64(36), np.int64(219), np.int64(319)),\n",
       " (np.int64(36), np.int64(218), np.int64(321)),\n",
       " (np.int64(36), np.int64(217), np.int64(323)),\n",
       " (np.int64(36), np.int64(216), np.int64(325)),\n",
       " (np.int64(36), np.int64(215), np.int64(327)),\n",
       " (np.int64(35), np.int64(214), np.int64(329)),\n",
       " (np.int64(34), np.int64(212), np.int64(331)),\n",
       " (np.int64(35), np.int64(212), np.int64(333)),\n",
       " (np.int64(35), np.int64(212), np.int64(335)),\n",
       " (np.int64(35), np.int64(212), np.int64(337)),\n",
       " (np.int64(35), np.int64(212), np.int64(339)),\n",
       " (np.int64(35), np.int64(211), np.int64(341)),\n",
       " (np.int64(35), np.int64(211), np.int64(343)),\n",
       " (np.int64(35), np.int64(210), np.int64(345)),\n",
       " (np.int64(35), np.int64(209), np.int64(347)),\n",
       " (np.int64(34), np.int64(207), np.int64(349)),\n",
       " (np.int64(34), np.int64(206), np.int64(351)),\n",
       " (np.int64(34), np.int64(205), np.int64(353)),\n",
       " (np.int64(34), np.int64(203), np.int64(355)),\n",
       " (np.int64(34), np.int64(202), np.int64(357)),\n",
       " (np.int64(34), np.int64(201), np.int64(359)),\n",
       " (np.int64(34), np.int64(200), np.int64(361)),\n",
       " (np.int64(34), np.int64(199), np.int64(362)),\n",
       " (np.int64(34), np.int64(197), np.int64(363)),\n",
       " (np.int64(34), np.int64(196), np.int64(364)),\n",
       " (np.int64(34), np.int64(195), np.int64(365)),\n",
       " (np.int64(34), np.int64(194), np.int64(366)),\n",
       " (np.int64(34), np.int64(193), np.int64(367)),\n",
       " (np.int64(34), np.int64(191), np.int64(367)),\n",
       " (np.int64(33), np.int64(189), np.int64(368)),\n",
       " (np.int64(33), np.int64(187), np.int64(369)),\n",
       " (np.int64(32), np.int64(185), np.int64(370)),\n",
       " (np.int64(30), np.int64(181), np.int64(367)),\n",
       " (np.int64(29), np.int64(181), np.int64(365)),\n",
       " (np.int64(28), np.int64(181), np.int64(363)),\n",
       " (np.int64(27), np.int64(182), np.int64(361)),\n",
       " (np.int64(26), np.int64(183), np.int64(359)),\n",
       " (np.int64(25), np.int64(183), np.int64(357)),\n",
       " (np.int64(25), np.int64(184), np.int64(355)),\n",
       " (np.int64(24), np.int64(184), np.int64(353)),\n",
       " (np.int64(24), np.int64(184), np.int64(351)),\n",
       " (np.int64(23), np.int64(184), np.int64(349)),\n",
       " (np.int64(22), np.int64(190), np.int64(345)),\n",
       " (np.int64(22), np.int64(192), np.int64(344)),\n",
       " (np.int64(22), np.int64(194), np.int64(343)),\n",
       " (np.int64(21), np.int64(196), np.int64(342)),\n",
       " (np.int64(21), np.int64(198), np.int64(341)),\n",
       " (np.int64(20), np.int64(200), np.int64(341)),\n",
       " (np.int64(20), np.int64(201), np.int64(342)),\n",
       " (np.int64(20), np.int64(203), np.int64(343)),\n",
       " (np.int64(20), np.int64(205), np.int64(344)),\n",
       " (np.int64(19), np.int64(206), np.int64(345)),\n",
       " (np.int64(19), np.int64(207), np.int64(347)),\n",
       " (np.int64(19), np.int64(210), np.int64(347)),\n",
       " (np.int64(19), np.int64(212), np.int64(347)),\n",
       " (np.int64(19), np.int64(214), np.int64(347)),\n",
       " (np.int64(19), np.int64(215), np.int64(349)),\n",
       " (np.int64(19), np.int64(216), np.int64(350)),\n",
       " (np.int64(19), np.int64(217), np.int64(352)),\n",
       " (np.int64(19), np.int64(218), np.int64(354)),\n",
       " (np.int64(20), np.int64(218), np.int64(356)),\n",
       " (np.int64(21), np.int64(218), np.int64(358))]"
      ]
     },
     "execution_count": 15,
     "metadata": {},
     "output_type": "execute_result"
    }
   ],
   "source": [
    "vessel_tree"
   ]
  },
  {
   "cell_type": "code",
   "execution_count": 16,
   "id": "8dc6bd71-ca6e-4c6d-9c08-33fd317474f5",
   "metadata": {
    "execution": {
     "iopub.execute_input": "2025-05-26T02:41:41.985022Z",
     "iopub.status.busy": "2025-05-26T02:41:41.984877Z",
     "iopub.status.idle": "2025-05-26T02:41:41.995738Z",
     "shell.execute_reply": "2025-05-26T02:41:41.995395Z",
     "shell.execute_reply.started": "2025-05-26T02:41:41.984996Z"
    }
   },
   "outputs": [],
   "source": [
    "#o3d_interactive_centerline(vessel_tree, background_volume=vol3d_gauss1)"
   ]
  },
  {
   "cell_type": "code",
   "execution_count": 17,
   "id": "c307f481-a5a4-4d62-9c57-89542e8ead91",
   "metadata": {
    "execution": {
     "iopub.execute_input": "2025-05-26T02:41:41.996203Z",
     "iopub.status.busy": "2025-05-26T02:41:41.996070Z",
     "iopub.status.idle": "2025-05-26T02:43:56.499207Z",
     "shell.execute_reply": "2025-05-26T02:43:56.498854Z",
     "shell.execute_reply.started": "2025-05-26T02:41:41.996193Z"
    }
   },
   "outputs": [],
   "source": [
    "o3d_interactive_centerline(vessel_tree, background_volume=vol3d_gauss1)"
   ]
  }
 ],
 "metadata": {
  "kernelspec": {
   "display_name": "Python 3 (ipykernel)",
   "language": "python",
   "name": "python3"
  },
  "language_info": {
   "codemirror_mode": {
    "name": "ipython",
    "version": 3
   },
   "file_extension": ".py",
   "mimetype": "text/x-python",
   "name": "python",
   "nbconvert_exporter": "python",
   "pygments_lexer": "ipython3",
   "version": "3.12.10"
  }
 },
 "nbformat": 4,
 "nbformat_minor": 5
}
