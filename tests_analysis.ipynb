{
 "cells": [
  {
   "cell_type": "code",
   "execution_count": null,
   "id": "e55b7bbe-7bf7-4397-afd9-91fc656969a8",
   "metadata": {},
   "outputs": [],
   "source": [
    "import pandas as pd"
   ]
  },
  {
   "cell_type": "code",
   "execution_count": null,
   "id": "63e5a66f-b836-4afd-84ba-d1337a5949fb",
   "metadata": {},
   "outputs": [],
   "source": [
    "CSV_FILE_PATH = 'scores/scores_updated.csv'\n",
    "try:\n",
    "    df = pd.read_csv(CSV_FILE_PATH)\n",
    "except FileNotFoundError:\n",
    "    print(f\"ERRO: O arquivo '{CSV_FILE_PATH}' não foi encontrado.\")\n",
    "    print(\"Por favor, verifique se o script está na mesma pasta que o arquivo CSV.\")\n",
    "    exit()"
   ]
  },
  {
   "cell_type": "code",
   "execution_count": null,
   "id": "e08a0eb4-57c8-4950-ac6a-3a0e8e2eda76",
   "metadata": {},
   "outputs": [],
   "source": [
    "# --- 1. ANÁLISE PARA A SEÇÃO \"EXPERIMENTOS\" ---\n",
    "# Métrica: Média dos melhores scores individuais de cada imagem.\n",
    "\n",
    "# Encontra a linha com o maior 'DiademScore' para cada combinação de Filtro e Imagem\n",
    "best_individuals = df.loc[df.groupby(['FilterType', 'ImageID'])['DiademScore'].idxmax()]\n",
    "\n",
    "print(\"\\n--- Melhores Scores Individuais por Filtro (Dataset Completo) ---\\n\")\n",
    "for f_type in ['frangi', 'kumar', 'yang']:\n",
    "    print(f\"Filtro: {f_type.capitalize()}\")\n",
    "    \n",
    "    table_data = best_individuals[best_individuals['FilterType'] == f_type]\n",
    "    \n",
    "    # Seleciona as colunas relevantes para cada filtro\n",
    "    if f_type == 'yang':\n",
    "        cols = ['ImageID', 'DiademScore', 'SigMin', 'SigMax', 'SigStep',\n",
    "                'NeuronThreshold', 'PruningThreshold', 'SmoothingFactor']\n",
    "    else:\n",
    "        cols = ['ImageID', 'DiademScore', 'SigMin', 'SigMax', 'SigStep',\n",
    "                'PruningThreshold', 'SmoothingFactor']\n",
    "    print(table_data[cols].sort_values(by='ImageID').to_csv(index=False))"
   ]
  },
  {
   "cell_type": "code",
   "execution_count": null,
   "id": "92eb527d-3ac6-4adc-a724-36dc8953bc18",
   "metadata": {},
   "outputs": [],
   "source": [
    "# Calcula a média desses melhores scores\n",
    "avg_of_bests_full = best_individuals.groupby('FilterType')['DiademScore'].mean().reset_index()"
   ]
  },
  {
   "cell_type": "code",
   "execution_count": null,
   "id": "a3ee28af-cc36-47fa-bdeb-b5d13a1e6894",
   "metadata": {},
   "outputs": [],
   "source": [
    "# Análise para o dataset filtrado\n",
    "df_filtered = df[~df['ImageID'].isin(['OP_3', 'OP_5', 'OP_8'])]\n",
    "best_individuals_filtered = df_filtered.loc[df_filtered.groupby(['FilterType', 'ImageID'])['DiademScore'].idxmax()]\n",
    "avg_of_bests_filtered = best_individuals_filtered.groupby('FilterType')['DiademScore'].mean().reset_index()"
   ]
  },
  {
   "cell_type": "code",
   "execution_count": null,
   "id": "a7156e0e-dab4-475c-afaa-2064387c521d",
   "metadata": {},
   "outputs": [],
   "source": [
    "# Junta os resultados para a tabela final da seção\n",
    "summary_table_exp = pd.merge(\n",
    "    avg_of_bests_full.rename(columns={'DiademScore': 'Score médio (dataset completo)'}),\n",
    "    avg_of_bests_filtered.rename(columns={'DiademScore': 'Score médio (dataset filtrado)'}),\n",
    "    on='FilterType'\n",
    ")"
   ]
  },
  {
   "cell_type": "code",
   "execution_count": null,
   "id": "81fa01e4-6163-49e4-8c88-1173158688c9",
   "metadata": {},
   "outputs": [],
   "source": [
    "print(\"\\n--- Tabela Resumo para 'Experimentos' (Média dos Melhores Scores) ---\\n\")\n",
    "print(summary_table_exp.to_csv(index=False))"
   ]
  },
  {
   "cell_type": "code",
   "execution_count": null,
   "id": "ecac8d11-23ce-43a6-a541-37e6ff131823",
   "metadata": {},
   "outputs": [],
   "source": [
    "# --- 2. ANÁLISE PARA A SEÇÃO \"RESULTADOS E DISCUSSÃO\" ---\n",
    "# Métrica: Melhor média de score obtida por uma única configuração de parâmetros.\n",
    "print(\"Análise para a Seção 'Resultados e Discussão'\")\n",
    "parameter_cols = ['FilterType', 'SigMin', 'SigMax', 'SigStep', 'NeuronThreshold', 'PruningThreshold', 'SmoothingFactor']\n",
    "\n",
    "# Análise no Dataset Completo\n",
    "avg_per_run_full = df.groupby(parameter_cols)['DiademScore'].mean().reset_index()\n",
    "best_avg_runs_full = avg_per_run_full.loc[avg_per_run_full.groupby('FilterType')['DiademScore'].idxmax()]\n",
    "\n",
    "print(\"\\n--- Melhor Média por Configuração (Dataset Completo) ---\\n\")\n",
    "print(best_avg_runs_full.to_csv(index=False))"
   ]
  },
  {
   "cell_type": "code",
   "execution_count": null,
   "id": "48b7a945-bafa-4535-ba7a-b60052148792",
   "metadata": {},
   "outputs": [],
   "source": [
    "# Análise no Dataset Filtrado\n",
    "avg_per_run_filtered = df_filtered.groupby(parameter_cols)['DiademScore'].mean().reset_index()\n",
    "best_avg_runs_filtered = avg_per_run_filtered.loc[avg_per_run_filtered.groupby('FilterType')['DiademScore'].idxmax()]\n",
    "\n",
    "print(\"\\n\\n--- Melhor Média por Configuração (Dataset Filtrado) ---\\n\")\n",
    "print(best_avg_runs_filtered.to_csv(index=False))"
   ]
  },
  {
   "cell_type": "code",
   "execution_count": null,
   "id": "140a4e2a-de0f-4b01-9811-bdf8e549ee0c",
   "metadata": {},
   "outputs": [],
   "source": []
  }
 ],
 "metadata": {
  "kernelspec": {
   "display_name": "Python 3 (ipykernel)",
   "language": "python",
   "name": "python3"
  },
  "language_info": {
   "codemirror_mode": {
    "name": "ipython",
    "version": 3
   },
   "file_extension": ".py",
   "mimetype": "text/x-python",
   "name": "python",
   "nbconvert_exporter": "python",
   "pygments_lexer": "ipython3"
  }
 },
 "nbformat": 4,
 "nbformat_minor": 5
}
